{
 "cells": [
  {
   "cell_type": "markdown",
   "metadata": {},
   "source": [
    "# Defining performance metrics"
   ]
  },
  {
   "cell_type": "markdown",
   "metadata": {},
   "source": [
    "# confusion matrix"
   ]
  },
  {
   "cell_type": "markdown",
   "metadata": {},
   "source": [
    "- recall : 실제 트루값 중 진짜 트루고 예측도 트루인 친구들\n",
    "- precision : 예측한 트루값중 진짜 트루고 예측도 트루인 친구들"
   ]
  },
  {
   "cell_type": "markdown",
   "metadata": {},
   "source": [
    "- fscore : single matrix summerize the perform of the model\n",
    "    - 2pr/(p+r) p : precision, r : recall "
   ]
  },
  {
   "cell_type": "markdown",
   "metadata": {},
   "source": [
    "# Designing a baseline model"
   ]
  },
  {
   "cell_type": "markdown",
   "metadata": {},
   "source": [
    "- you will do well to fisrt model and algorithm already known to perform the bset fpr that task"
   ]
  },
  {
   "cell_type": "markdown",
   "metadata": {},
   "source": [
    "- you can even trained different dataset for your own problem without having to train it from scratch\n",
    "- called transfer learning"
   ]
  },
  {
   "cell_type": "markdown",
   "metadata": {},
   "source": [
    "# Data preprocessing"
   ]
  },
  {
   "cell_type": "markdown",
   "metadata": {},
   "source": [
    "- When given large amount of training data they extract and learn features from raw data \n",
    "- but still need some preprocessing to improve performance of work within specific limitations on the neural network\n",
    "- such as converting images to grayscale, img resizing, normalization, and data argument\n"
   ]
  },
  {
   "cell_type": "markdown",
   "metadata": {},
   "source": [
    "#### grayscale rules\n",
    "- if you can identity the object with your eyes in grayscale\n",
    "- dnn will understand too : low computer power"
   ]
  },
  {
   "cell_type": "markdown",
   "metadata": {},
   "source": [
    "#### image resize\n",
    "- for input_shape : and computer vision"
   ]
  },
  {
   "cell_type": "markdown",
   "metadata": {},
   "source": [
    "#### data normalization\n",
    "- input feature has similar data distribution \n",
    "- so we do the normalization"
   ]
  },
  {
   "cell_type": "markdown",
   "metadata": {},
   "source": [
    "- [0, 1] range make boost learning performance and make the network converge fast \n",
    "- HOW to make neural network fast, \n",
    "    - small values : [0, 1] values should be in [0, 1]\n",
    "    - homogenous : All pixels should have values in the same range"
   ]
  },
  {
   "cell_type": "markdown",
   "metadata": {},
   "source": [
    "<img src=\"https://blog.kakaocdn.net/dn/bXs8JV/btq54NWJ2P7/L2GQwF18VADgyKO62kgSD1/img.png\">"
   ]
  },
  {
   "cell_type": "markdown",
   "metadata": {},
   "source": [
    "#### show why normalization important\n",
    "- non normalized features make cost function squished, elongated bowl"
   ]
  },
  {
   "cell_type": "markdown",
   "metadata": {},
   "source": [
    "<img src=\"https://blog.kakaocdn.net/dn/c9Y0YD/btq56dnI70a/HX9cOKytmm0b5hUENWRU80/img.png\">"
   ]
  },
  {
   "cell_type": "markdown",
   "metadata": {},
   "source": [
    "# Evaluating the model and interpretung its performance"
   ]
  },
  {
   "cell_type": "markdown",
   "metadata": {},
   "source": [
    "### Diagnosing oberfitting and underfitting \n",
    "- after running you experiment\n",
    "- want to observe its performance, determine if bottelnecks are impacting its performance"
   ]
  },
  {
   "cell_type": "markdown",
   "metadata": {},
   "source": [
    "- main cause of poor performance in ML is either overfitting or underfitting the training dataset"
   ]
  },
  {
   "cell_type": "markdown",
   "metadata": {},
   "source": [
    "#### to diagnose underfitting and overfitting \n",
    "- two values ot focus on while training poorly on the validation set"
   ]
  },
  {
   "cell_type": "markdown",
   "metadata": {},
   "source": [
    "#### if train_error is lower than val error \n",
    "- overfitting \n",
    "- tuning hyperparameters to avoid overfitting\n",
    "\n",
    "#### if val error is lower than train_error\n",
    "- under fitting\n",
    "- consider adding more hidden layers or train longer or try different neural network architecture"
   ]
  },
  {
   "cell_type": "markdown",
   "metadata": {},
   "source": [
    "# Plotting the learning curves"
   ]
  },
  {
   "cell_type": "code",
   "execution_count": null,
   "metadata": {},
   "outputs": [],
   "source": []
  }
 ],
 "metadata": {
  "kernelspec": {
   "display_name": "Python 3",
   "language": "python",
   "name": "python3"
  },
  "language_info": {
   "codemirror_mode": {
    "name": "ipython",
    "version": 3
   },
   "file_extension": ".py",
   "mimetype": "text/x-python",
   "name": "python",
   "nbconvert_exporter": "python",
   "pygments_lexer": "ipython3",
   "version": "3.8.5"
  }
 },
 "nbformat": 4,
 "nbformat_minor": 4
}
