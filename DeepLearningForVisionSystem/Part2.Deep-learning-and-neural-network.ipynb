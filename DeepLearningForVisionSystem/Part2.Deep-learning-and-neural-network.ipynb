{
 "cells": [
  {
   "cell_type": "markdown",
   "metadata": {},
   "source": [
    "# Deep learning and neural networks"
   ]
  },
  {
   "cell_type": "markdown",
   "metadata": {},
   "source": [
    "- Understanding perceptrons and multilayer perceptrons\n",
    "- Working with the different types of actication functions\n",
    "- Training networks with feedforward, error functions, and error optimization\n",
    "- performing backpropagation"
   ]
  },
  {
   "cell_type": "markdown",
   "metadata": {},
   "source": [
    "## Understanding perceptrons"
   ]
  },
  {
   "cell_type": "markdown",
   "metadata": {},
   "source": [
    "- ANN(artificail neurual network) = MLP(multilayer perceptron)\n"
   ]
  },
  {
   "cell_type": "markdown",
   "metadata": {},
   "source": [
    "### what is a perceptron"
   ]
  },
  {
   "cell_type": "markdown",
   "metadata": {},
   "source": [
    "- simple neural network is the perceptron - which consists of a single neuron\n",
    "- anrificial neuron performs two consecutive function\n",
    "    + calculates the weighted sum of the inputs : repersent the total strngth of the input signal\n",
    "    + applies a step function : to the result to determine whether to fire the output 1\n",
    "        + if signal exceed a certain thershold or 0 the signal doesn' exceed the threshold "
   ]
  },
  {
   "cell_type": "markdown",
   "metadata": {},
   "source": [
    "not all input features are equally usefull or important \n",
    "- to represent that each input node is assigned a weight value : connection weight "
   ]
  },
  {
   "cell_type": "markdown",
   "metadata": {},
   "source": [
    "#### connection weights\n",
    "- not all input features are not equally important\n",
    "- each input feature is assigned its own weight : reflectts its importance in decision-making process\n",
    "- inputs assigned greater weight have a greater effect on the output\n",
    "- if weight is high : amplifies the input signal, if low : diminishes the input signal\n"
   ]
  },
  {
   "cell_type": "markdown",
   "metadata": {},
   "source": [
    "### img of input perceptron"
   ]
  },
  {
   "cell_type": "markdown",
   "metadata": {},
   "source": [
    "<img src= \"https://img1.daumcdn.net/thumb/R1280x0/?scode=mtistory2&fname=https%3A%2F%2Fblog.kakaocdn.net%2Fdn%2FBMQfD%2Fbtq1MpTtRXm%2FF1CI61tP0j4QcuwfVHbh5K%2Fimg.png\">"
   ]
  },
  {
   "cell_type": "markdown",
   "metadata": {},
   "source": [
    "### weighted sum function\n",
    "- aka linear combination\n",
    "    + the sum of all inputs multiplied by their weights and then added a bias term\n",
    "    - $z = \\sum({x_i} * {w_i} + b(bias))$"
   ]
  },
  {
   "cell_type": "code",
   "execution_count": 2,
   "metadata": {},
   "outputs": [],
   "source": [
    "# python code"
   ]
  },
  {
   "cell_type": "code",
   "execution_count": 3,
   "metadata": {},
   "outputs": [
    {
     "name": "stdout",
     "output_type": "stream",
     "text": [
      "14.001\n"
     ]
    }
   ],
   "source": [
    "import numpy as np\n",
    "w = np.array([0.1, 0.2, 0.3])\n",
    "x = np.array([10, 20, 30])\n",
    "b = 0.001\n",
    "\n",
    "z = np.dot(w.T,x) + b\n",
    "print(z)"
   ]
  },
  {
   "cell_type": "markdown",
   "metadata": {},
   "source": [
    "#### what is a bias in the perceptron, and why do we add it?"
   ]
  },
  {
   "cell_type": "code",
   "execution_count": 4,
   "metadata": {},
   "outputs": [
    {
     "data": {
      "image/png": "[encoded data removed]",
      "text/plain": [
       "<Figure size 432x288 with 1 Axes>"
      ]
     },
     "metadata": {
      "needs_background": "light"
     },
     "output_type": "display_data"
    }
   ],
   "source": [
    "import seaborn as sns\n",
    "import pandas as pd\n",
    "import matplotlib.pylab as plt\n",
    "\n",
    "y = list([1,2,3,4,10,5,6])\n",
    "x = list([-10, -20, -30, -49, -89, -47, -77])\n",
    "\n",
    "data = pd.DataFrame({\"x\":x, \"y\":y})\n",
    "\n",
    "sns.regplot(x = data[\"x\"] ,y = data[\"y\"], data = data)\n",
    "plt.title('Scatter Plot with Regression Line by regplot()', fontsize=20)\n",
    "plt.show()\n",
    "\n",
    "# this grap show why we the bias : which pass (0,0) is imposible "
   ]
  },
  {
   "cell_type": "markdown",
   "metadata": {},
   "source": [
    "- The function of stright line is represented by equation (y = mx +b)\n",
    "- where b is the y-intercept \n",
    "\n",
    "---\n",
    "- To be able to define a line need two things: slope of the line, point on the line\n",
    "- bias is that point on the y-axis\n",
    "- bias allows you to move the line up and down : better prediction with the data\n",
    "---\n",
    "- without bias the line always has to go through the original point(0,0) : poorer fit "
   ]
  },
  {
   "cell_type": "markdown",
   "metadata": {},
   "source": [
    "### Step activation function"
   ]
  },
  {
   "cell_type": "markdown",
   "metadata": {},
   "source": [
    "- Neuron does not just output the bare input it receives\n",
    "- Instead one more step : called an activation function\n",
    "    + activation function : decision making unit of the brain"
   ]
  },
  {
   "cell_type": "markdown",
   "metadata": {},
   "source": [
    "- In ANNs, the activation function takes the same weighted sum input \n",
    "- from before (z = Σx i · w i + b) and activates (fires) the neuron\n",
    "- activates if weighted sum is higher than a certain threshold"
   ]
  },
  {
   "cell_type": "markdown",
   "metadata": {},
   "source": [
    "- The simplest activation function used by the perceptron \n",
    "\n",
    "- step function that produces a binary output (0 or 1).\n",
    "- if the summed input ≥ 0, it “fires” (output = 1);\n",
    "- else (summed input < 0), it doesn’t fire (out-put = 0) "
   ]
  },
  {
   "cell_type": "code",
   "execution_count": 5,
   "metadata": {},
   "outputs": [
    {
     "data": {
      "image/png": "[encoded data removed]",
      "text/plain": [
       "<Figure size 432x288 with 1 Axes>"
      ]
     },
     "metadata": {
      "needs_background": "light"
     },
     "output_type": "display_data"
    }
   ],
   "source": [
    "y = np.array([0,0,0,0,1,1,1,1])\n",
    "x = np.array([-3, -2, -1,0,0,1,2,3])\n",
    "data = pd.DataFrame({\"x\":x, \"y\":y})\n",
    "\n",
    "plt.plot(data[\"x\"], data[\"y\"])\n",
    "plt.title(\"Step function\")\n",
    "plt.show()\n"
   ]
  },
  {
   "cell_type": "code",
   "execution_count": 6,
   "metadata": {},
   "outputs": [],
   "source": [
    "# step function(z) in python\n",
    "# for the single val\n",
    "\n",
    "def step_function(z):\n",
    "    if z <= 0:\n",
    "        return 0\n",
    "    else:\n",
    "        return 1"
   ]
  },
  {
   "cell_type": "code",
   "execution_count": 7,
   "metadata": {},
   "outputs": [],
   "source": [
    "# step function(z) in python\n",
    "# for the list\n",
    "\n",
    "def step_function(num_list):\n",
    "    step_list = []\n",
    "    \n",
    "    for i in range(len(num_list)):\n",
    "        val = num_list[i] \n",
    "\n",
    "        if val <= 0:\n",
    "            step_list.append(0)\n",
    "        \n",
    "        else:\n",
    "            step_list.append(1)\n",
    "    \n",
    "    return step_list"
   ]
  },
  {
   "cell_type": "code",
   "execution_count": 8,
   "metadata": {
    "scrolled": false
   },
   "outputs": [
    {
     "data": {
      "text/plain": [
       "[<matplotlib.lines.Line2D at 0x7f48682b3f70>]"
      ]
     },
     "execution_count": 8,
     "metadata": {},
     "output_type": "execute_result"
    },
    {
     "data": {
      "image/png": "[encoded data removed]",
      "text/plain": [
       "<Figure size 432x288 with 1 Axes>"
      ]
     },
     "metadata": {
      "needs_background": "light"
     },
     "output_type": "display_data"
    }
   ],
   "source": [
    "# data\n",
    "ls = (np.arange(-10, 10, 0.1))\n",
    "\n",
    "plt.plot(ls, step_function(ls))"
   ]
  },
  {
   "cell_type": "markdown",
   "metadata": {},
   "source": [
    "### How does the perceptron learn"
   ]
  },
  {
   "cell_type": "markdown",
   "metadata": {},
   "source": [
    "- The perceptron uses trial and error to learn from it mistakes\n",
    "- Use the weights as knobs by tuning their values up and down until the network is trained"
   ]
  },
  {
   "cell_type": "markdown",
   "metadata": {},
   "source": [
    "### The perceptron's learning logic \n",
    "- The neuron calc the weighted sum and applies the activation function to maked a prediction $\\hat y$ (feeforward process)\n",
    "\n",
    "    #### $ \\hat y = activation(\\sum{x_i * w_i + b})$\n",
    "\n",
    "\n",
    "- Compares the output prediction with the correct label to calc the error\n",
    "    #### $error =  y - \\hat y$\n",
    "\n",
    "\n",
    "\n",
    "- Updates the weight. If prediction is too high, adjusts the weight to make a lower prediction next time, vice versa too\n",
    "\n",
    "\n",
    "- Repeat"
   ]
  },
  {
   "cell_type": "markdown",
   "metadata": {},
   "source": [
    "- This process is repeated many times, and the neuron continues to update the weight to import predictions until step2 produce very small error"
   ]
  },
  {
   "cell_type": "markdown",
   "metadata": {},
   "source": [
    "### Is one neuron enough to solve complex problems?"
   ]
  },
  {
   "cell_type": "markdown",
   "metadata": {},
   "source": [
    "- Short answer is no\n",
    "#### then why?\n",
    "\n",
    "\n",
    "- The perceptron is a linear function, trained neuron will produce a straight line that separates our data\n",
    "- Single perceptron works fine when our data was linearly separable.\n"
   ]
  },
  {
   "cell_type": "markdown",
   "metadata": {},
   "source": [
    "#### Complex dataset example"
   ]
  },
  {
   "cell_type": "markdown",
   "metadata": {},
   "source": [
    "<img src = \"https://img1.daumcdn.net/thumb/R1280x0/?scode=mtistory2&fname=https%3A%2F%2Fblog.kakaocdn.net%2Fdn%2Fy8tcL%2Fbtq11AlXlmj%2FBZtQlFxIkP3qi878bCR2Mk%2Fimg.png\" align=\"left\">"
   ]
  },
  {
   "cell_type": "markdown",
   "metadata": {},
   "source": [
    "#### But\n",
    "\n",
    "- When we have a more complex dataset that cannot be separated by a straight line\n",
    "- the more neurons we add, the better the network will fit our training data \n",
    "- In fact, if wee add too many neurons, this will make the network overfit the training data(Not good)\n"
   ]
  },
  {
   "cell_type": "markdown",
   "metadata": {},
   "source": [
    "### Multilayer perceptrons "
   ]
  },
  {
   "cell_type": "markdown",
   "metadata": {},
   "source": [
    "Linear vs nonlinear problems \n",
    "- Linear datasets - The data can be split with a single straight line\n",
    "- Nonlinear datasets - The data cannot be split with a single straight line\n",
    "- need more than one line to form a shape that splits the data "
   ]
  },
  {
   "cell_type": "markdown",
   "metadata": {},
   "source": [
    "#### To split a nonlinear dataset, We need more than on line.\n"
   ]
  },
  {
   "cell_type": "markdown",
   "metadata": {},
   "source": [
    "### Multilayer perceptron architecture "
   ]
  },
  {
   "cell_type": "markdown",
   "metadata": {},
   "source": [
    "<img src = \"https://img1.daumcdn.net/thumb/R1280x0/?scode=mtistory2&fname=https%3A%2F%2Fblog.kakaocdn.net%2Fdn%2F0Ovqt%2Fbtq10RPjMrG%2FgFRDXGY2sTSjF8zAUvdykK%2Fimg.png\">"
   ]
  },
  {
   "cell_type": "markdown",
   "metadata": {},
   "source": [
    "- Main components of the neural network architecture\n",
    "\n",
    "- Input layer - contains the feature vector\n",
    "    \n",
    "- Hidden layers - The neurons are stacked on top of each other\n",
    "    \n",
    "- Weight connections(edges)\n",
    "    - assigned to each connection between the nodes \n",
    "    - reflect the importance of their influence on the final output prediction \n",
    "    \n",
    "- output layers - Get the answer of prediction from our model from the output layer"
   ]
  },
  {
   "cell_type": "markdown",
   "metadata": {},
   "source": [
    "- Why we called hidden layers\n",
    "    + Because we don't see or control the input going into these layers or the output"
   ]
  },
  {
   "cell_type": "markdown",
   "metadata": {},
   "source": [
    "### what are hidden layers?\n",
    "- Core of the feature-learning process takes place \n",
    "\n",
    "- We stack hidden layers to learn complex features from each other until we fit our data\n",
    "\n",
    "- If your network is not fitting the data, the solution could be adding more hidden layers"
   ]
  },
  {
   "cell_type": "markdown",
   "metadata": {},
   "source": [
    "### How many layers and how many nodes in each layer?"
   ]
  },
  {
   "cell_type": "markdown",
   "metadata": {},
   "source": [
    "- There is no answers\n",
    "- Build network not too simple and not too complex for my data."
   ]
  },
  {
   "cell_type": "markdown",
   "metadata": {},
   "source": [
    "### Activation functions"
   ]
  },
  {
   "cell_type": "markdown",
   "metadata": {},
   "source": [
    "- When building neural network, one of the design decisions \"**activation function**\"\n",
    "- To use for neurons' calcuation\n",
    "- Activation function  == transfer function == nonlinearities\n",
    "---\n",
    "- Activation function transform the linear combination of a weight sum into a nonlinear model \n",
    "- Activation func is placed at the end of each perceptron to decide whether to activate this neuron"
   ]
  },
  {
   "cell_type": "markdown",
   "metadata": {},
   "source": [
    "#### The purpose of the activation function is to introduce nonlinearity into the network\n",
    "- without activation function multilayer perceptron will perform similarly to a single perceptron\n",
    "- Activation function need to restrict the output value to certain finite value"
   ]
  },
  {
   "cell_type": "markdown",
   "metadata": {},
   "source": [
    "<img src = \"https://blog.kakaocdn.net/dn/bULoxN/btq2s5dSehw/SnfsQDfVbaYxqW9mBocAfK/img.png\">"
   ]
  },
  {
   "cell_type": "markdown",
   "metadata": {},
   "source": [
    "- this model calculates the weighted sum and produces the linear function(z):\n",
    "- z =  height * w1 + age * w2 + b \n",
    "- The z(output) has no bound, z could literally be any number\n",
    "- We use activation function to wrap ther prediction to a finite value "
   ]
  },
  {
   "cell_type": "markdown",
   "metadata": {},
   "source": [
    "# Learn more about activation functions "
   ]
  },
  {
   "cell_type": "markdown",
   "metadata": {},
   "source": [
    "### Linear transfer function "
   ]
  },
  {
   "cell_type": "markdown",
   "metadata": {},
   "source": [
    "- Linear transfer function or called a identity function \n",
    "- output will be equal to ther input \n",
    "- no matter how many layers our neural network has,\n",
    "- Doing is computing a linear activation function\n",
    "\n",
    "- **activation(z) = z = wx+b**\n",
    "---\n",
    "- composition of two linear function is still linear function \n",
    "- no matter how deep you make your network, \"**no learning here**\"\n",
    "\n",
    "---\n",
    "Why no learning?\n",
    "- y = 4x y' = 4 so backpropagation is always 4 it means we can't improving the error"
   ]
  },
  {
   "cell_type": "markdown",
   "metadata": {},
   "source": [
    "### Heaviside step function(Binary classifier)"
   ]
  },
  {
   "cell_type": "markdown",
   "metadata": {},
   "source": [
    "- The step function produces a binary output \n",
    "    + if input x > 0, ㅑti fires(output y = 1)\n",
    "    - elif it doesn't fire \n",
    "- mainly used in binary classification problems \n"
   ]
  },
  {
   "cell_type": "code",
   "execution_count": 9,
   "metadata": {},
   "outputs": [
    {
     "data": {
      "text/plain": [
       "[<matplotlib.lines.Line2D at 0x7f48682996a0>]"
      ]
     },
     "execution_count": 9,
     "metadata": {},
     "output_type": "execute_result"
    },
    {
     "data": {
      "image/png": "[encoded data removed]",
      "text/plain": [
       "<Figure size 432x288 with 1 Axes>"
      ]
     },
     "metadata": {
      "needs_background": "light"
     },
     "output_type": "display_data"
    }
   ],
   "source": [
    "# data\n",
    "ls = (np.arange(-10, 10, 0.1))\n",
    "\n",
    "plt.plot(ls, step_function(ls))"
   ]
  },
  {
   "cell_type": "markdown",
   "metadata": {},
   "source": [
    "# Sigmoid/ logistic function "
   ]
  },
  {
   "cell_type": "markdown",
   "metadata": {},
   "source": [
    "- one of the most common activation function\n",
    "- it even used in binary classifier to predict the probalility of a each class \n",
    "- The sigmoid squishes all the values to probability between 0 and 1\n",
    "- which reduce extrme values or outliers in the data without removing them \n",
    "- sigmoid or logistic function convert infinite continuous variables into simple probabilites between 0 and 1\n",
    "---\n",
    "sigmoid also called the s-shape curve because when plot : it produces s shaped curve\n",
    "\n",
    "---\n",
    "#### when step function is use discrete answer ( pass or fail)\n",
    "#### sigmoid is used to produce the probability of passing ann failing "
   ]
  },
  {
   "cell_type": "code",
   "execution_count": 10,
   "metadata": {},
   "outputs": [],
   "source": [
    "import numpy as np \n",
    "\n",
    "def sigmoid(x):\n",
    "    return 1/ (1 + np.exp(-x))"
   ]
  },
  {
   "cell_type": "code",
   "execution_count": 11,
   "metadata": {},
   "outputs": [
    {
     "data": {
      "image/png": "[encoded data removed]",
      "text/plain": [
       "<Figure size 432x288 with 1 Axes>"
      ]
     },
     "metadata": {
      "needs_background": "light"
     },
     "output_type": "display_data"
    }
   ],
   "source": [
    "x = np.arange(-10, 10, 0.1)\n",
    "plt.plot(sigmoid(x))\n",
    "plt.grid('on')"
   ]
  },
  {
   "cell_type": "markdown",
   "metadata": {},
   "source": [
    "### Just in time linear algebra"
   ]
  },
  {
   "cell_type": "markdown",
   "metadata": {},
   "source": [
    "- Sigmoid"
   ]
  },
  {
   "cell_type": "markdown",
   "metadata": {},
   "source": [
    "- Let's suppose we make amazing algorism with below formula\n",
    "- z = $\\beta_0 + \\beta_1(Age)$"
   ]
  },
  {
   "cell_type": "code",
   "execution_count": 12,
   "metadata": {},
   "outputs": [],
   "source": [
    "def formula(x, b0, b):\n",
    "    return b0 + (b * x)"
   ]
  },
  {
   "cell_type": "code",
   "execution_count": 13,
   "metadata": {},
   "outputs": [],
   "source": [
    "x = np.arange(20, 50 , 1)"
   ]
  },
  {
   "cell_type": "code",
   "execution_count": 14,
   "metadata": {},
   "outputs": [
    {
     "data": {
      "image/png": "[encoded data removed]",
      "text/plain": [
       "<Figure size 432x288 with 1 Axes>"
      ]
     },
     "metadata": {
      "needs_background": "light"
     },
     "output_type": "display_data"
    }
   ],
   "source": [
    "plt.plot(formula(x, -2, 0.08))\n",
    "plt.grid(\"on\")"
   ]
  },
  {
   "cell_type": "markdown",
   "metadata": {},
   "source": [
    "- if we want to make output range 0 ~ 1 \n",
    "- what we can do?"
   ]
  },
  {
   "cell_type": "code",
   "execution_count": 15,
   "metadata": {
    "scrolled": true
   },
   "outputs": [
    {
     "data": {
      "text/plain": [
       "[<matplotlib.lines.Line2D at 0x7f48681410a0>]"
      ]
     },
     "execution_count": 15,
     "metadata": {},
     "output_type": "execute_result"
    },
    {
     "data": {
      "image/png": "[encoded data removed]",
      "text/plain": [
       "<Figure size 432x288 with 1 Axes>"
      ]
     },
     "metadata": {
      "needs_background": "light"
     },
     "output_type": "display_data"
    }
   ],
   "source": [
    "plt.plot(np.exp(formula(x, -2, 0.05)))\n",
    "# but still exceed 1"
   ]
  },
  {
   "cell_type": "code",
   "execution_count": 16,
   "metadata": {},
   "outputs": [],
   "source": [
    "x = np.arange(-1000, 1000 , 0.01)"
   ]
  },
  {
   "cell_type": "code",
   "execution_count": 17,
   "metadata": {},
   "outputs": [
    {
     "data": {
      "text/plain": [
       "[<matplotlib.lines.Line2D at 0x7f48681198e0>]"
      ]
     },
     "execution_count": 17,
     "metadata": {},
     "output_type": "execute_result"
    },
    {
     "data": {
      "image/png": "[encoded data removed]",
      "text/plain": [
       "<Figure size 432x288 with 1 Axes>"
      ]
     },
     "metadata": {
      "needs_background": "light"
     },
     "output_type": "display_data"
    }
   ],
   "source": [
    "b = np.exp(formula(x, -2, 0.05))\n",
    "a = np.exp(formula(x, -2, 0.05)) +1\n",
    "plt.plot(b/a)\n",
    "# divide the equation by its value plus a small value"
   ]
  },
  {
   "cell_type": "markdown",
   "metadata": {},
   "source": [
    "### now we get the S shape of the sigmoid function \n",
    "- This is the plot of the sigmoid function and logistic regression \n",
    "\n",
    "- $p = \\frac{1}{1 + exp(-z)}$"
   ]
  },
  {
   "cell_type": "markdown",
   "metadata": {},
   "source": [
    "# softmax function "
   ]
  },
  {
   "cell_type": "markdown",
   "metadata": {},
   "source": [
    "- softmax function is generalization of the sigmoid function \n",
    "- this is used to obtain classification probability when more than two classed \n",
    "- softmax forces the outputs of a neural network to sum to 1 \n",
    "#### in deep learning problem \n",
    "- predict a single class out of many options(more than two)"
   ]
  },
  {
   "cell_type": "markdown",
   "metadata": {},
   "source": [
    "# $$\\sigma(x_j) = \\frac{\\exp^{x_j}}{\\sum_i{\\exp^{x_j}}}$$"
   ]
  },
  {
   "cell_type": "markdown",
   "metadata": {},
   "source": [
    "input = [1.2, 0.9, 0.4]\n",
    "\n",
    "\n",
    "$ \\Downarrow$\n",
    "\n",
    "Softmax\n",
    "\n",
    "\n",
    "$ \\Downarrow$\n",
    " \n",
    "output = [0.46, 0.34, 0.20]"
   ]
  },
  {
   "cell_type": "markdown",
   "metadata": {},
   "source": [
    "# Hyperbolic tangent function (tanh)"
   ]
  },
  {
   "cell_type": "markdown",
   "metadata": {},
   "source": [
    "- shifted version of the sigmoid version \n",
    "- Instead of squeezing the signal values between 0, 1\n",
    "- tanh squishes all values to the range -1, 1\n",
    "---\n",
    "- Tanh almost always works better than the sigmoid function in hidden layer \n",
    "- Because ot has the effect of centering my data so the mean data is close to zero \n",
    "- rather than 0.5, which makes learning for next layer little bit easier \n",
    "\n",
    "$$ tanh(x) = \\frac{sinh(x)}{cosh(x)} = \\frac {\\exp^x - \\exp^{-x}}{\\exp^x + \\exp^{-x}}$$"
   ]
  },
  {
   "cell_type": "markdown",
   "metadata": {},
   "source": [
    "#### Downsides \n",
    "- both sigmoid and tanh function  is if (z) is very large or very small \n",
    "- which slow down gradient descent \n",
    "- This is when the Relu activation function provides a solution "
   ]
  },
  {
   "cell_type": "code",
   "execution_count": 18,
   "metadata": {},
   "outputs": [],
   "source": [
    "def tanh(x):\n",
    "    a = np.exp(x) - np.exp(-x)\n",
    "    b = np.exp(x) + np.exp(-x)\n",
    "    return a/b"
   ]
  },
  {
   "cell_type": "code",
   "execution_count": 19,
   "metadata": {},
   "outputs": [
    {
     "data": {
      "image/png": "[encoded data removed]",
      "text/plain": [
       "<Figure size 432x288 with 1 Axes>"
      ]
     },
     "metadata": {
      "needs_background": "light"
     },
     "output_type": "display_data"
    }
   ],
   "source": [
    "x = np.arange(-10, 10 , 0.0001)\n",
    "plt.plot(tanh(x))\n",
    "plt.grid(\"on\")"
   ]
  },
  {
   "cell_type": "markdown",
   "metadata": {},
   "source": [
    "# Rectified linear unit "
   ]
  },
  {
   "cell_type": "markdown",
   "metadata": {},
   "source": [
    "- The Rectified linear unit (Relu) is activation function \n",
    "- activates a node only if input above zero\n",
    "- if input is below zero, output always zero \n",
    "- But when the input is higher than zero\n",
    "- it has relationship with the output variable \n",
    "- The Relu function is represented as follows \n",
    "$$ f(X) = max(0, x)$$"
   ]
  },
  {
   "cell_type": "markdown",
   "metadata": {},
   "source": [
    "#### Relu is considered the state of art activation function \n",
    "- because it works well in many different situations\n",
    "- it tends to train better than sigmoid and tanh in hidden layers "
   ]
  },
  {
   "cell_type": "code",
   "execution_count": 20,
   "metadata": {},
   "outputs": [],
   "source": [
    "x = np.arange(-10, 10, 0.1)"
   ]
  },
  {
   "cell_type": "code",
   "execution_count": 21,
   "metadata": {},
   "outputs": [],
   "source": [
    "def RELU(x):\n",
    "    a = []\n",
    "    for i in range(len(x)):\n",
    "        if  x[i] <0 :\n",
    "            a.append(0)\n",
    "        else:\n",
    "            a.append(x[i])\n",
    "    return a"
   ]
  },
  {
   "cell_type": "code",
   "execution_count": 22,
   "metadata": {},
   "outputs": [
    {
     "data": {
      "image/png": "[encoded data removed]",
      "text/plain": [
       "<Figure size 432x288 with 1 Axes>"
      ]
     },
     "metadata": {
      "needs_background": "light"
     },
     "output_type": "display_data"
    }
   ],
   "source": [
    "plt.plot(RELU(x))\n",
    "plt.grid(\"on\")"
   ]
  },
  {
   "cell_type": "markdown",
   "metadata": {},
   "source": [
    "# Leaky ReLU"
   ]
  },
  {
   "cell_type": "markdown",
   "metadata": {},
   "source": [
    "- One disadvantage of Relu activation \n",
    "    - derivative is equal to zero when x is negative\n",
    "\n",
    "- Leaky Relu is Relu variation tries to mitigate this issue\n",
    "- when x< 0, Leaky Relu introdueces a small negative slope\n",
    "\n",
    "$$ f(x) = max(0.01x,x)$$\n",
    "\n",
    "- why 0.01 some people like to use to tune this hyperparameter to tune, but overkill\n",
    "- feel try values likes 0.1 , 0.01, 0.002)"
   ]
  },
  {
   "cell_type": "code",
   "execution_count": 23,
   "metadata": {},
   "outputs": [],
   "source": [
    "def leaky_relu(x):\n",
    "    a = []\n",
    "    for i in range(len(x)):\n",
    "        if x[i] < 0 :\n",
    "            a.append(x[i] * 0.01)\n",
    "        else:\n",
    "            a.append(x[i])\n",
    "    return a "
   ]
  },
  {
   "cell_type": "code",
   "execution_count": 24,
   "metadata": {
    "scrolled": true
   },
   "outputs": [
    {
     "data": {
      "image/png": "[encoded data removed]",
      "text/plain": [
       "<Figure size 432x288 with 1 Axes>"
      ]
     },
     "metadata": {
      "needs_background": "light"
     },
     "output_type": "display_data"
    }
   ],
   "source": [
    "x = np.arange(-10, 10 , 1)\n",
    "plt.plot(leaky_relu(x))\n",
    "plt.grid(\"on\")"
   ]
  },
  {
   "cell_type": "markdown",
   "metadata": {},
   "source": [
    "# Hyperparameter alert"
   ]
  },
  {
   "cell_type": "markdown",
   "metadata": {},
   "source": [
    "**how to select activation function**\n",
    "\n",
    "- For hidden layes \n",
    "- Most case, Use the Relu activation function or leaky\n",
    "- it is a bit faster to compute than other activation functions\n",
    "- More importantly, it reduces likelihood of gradinet vanishing \n",
    "- it does not saturate for large input values \n",
    "- as opposed to the sigmoid and tanh are saturate at ~ 1\n",
    "#### Remember gradient is slop \n",
    "- when function plateaus this will lead to no slope \n",
    "- hence gradient start to vanish : this make harder to descent to minimum error \n",
    "\n",
    "---\n",
    "- For output layers\n",
    "- Softmax activation function is generally a good choice for most classification pronlems \n",
    "- sigmoid function serves for binary classification\n",
    "- For regression probelms simply use no activation function at all\n",
    "    + since the weighted sum node produces the continuos output that you need "
   ]
  },
  {
   "cell_type": "markdown",
   "metadata": {},
   "source": [
    "#### Review \n",
    "- We learned stack perceptrons in layers,\n",
    "- connect them with weights \n",
    "- perform a weight sum function\n",
    "- apply activation function \n",
    "\n",
    "> this step is called  feedforward "
   ]
  },
  {
   "cell_type": "markdown",
   "metadata": {},
   "source": [
    "# The feedforward process"
   ]
  },
  {
   "cell_type": "markdown",
   "metadata": {},
   "source": [
    "- Feedforward imply the forward direction in which the information flows\n",
    "- Flows from input layers through the hidden layers \n",
    "- All the way to output layer\n",
    "---\n",
    "- In short forward pass is calc through the layers to make prediction \n"
   ]
  },
  {
   "cell_type": "markdown",
   "metadata": {},
   "source": [
    "# With Vector we can transform neural net to vector function "
   ]
  },
  {
   "cell_type": "markdown",
   "metadata": {},
   "source": [
    "<img src=\"https://img1.daumcdn.net/thumb/R1280x0/?scode=mtistory2&fname=https%3A%2F%2Fblog.kakaocdn.net%2Fdn%2FmOtQM%2Fbtq3kkOGeb0%2FWilOhKZ68mL2zk41Wo9690%2Fimg.png\">"
   ]
  },
  {
   "cell_type": "markdown",
   "metadata": {},
   "source": [
    "<img src = \"https://img1.daumcdn.net/thumb/R1280x0/?scode=mtistory2&fname=https%3A%2F%2Fblog.kakaocdn.net%2Fdn%2F0zvN5%2Fbtq3itZEWDU%2FJHQxoUjLKINHnh1OEEKLk0%2Fimg.png\">"
   ]
  },
  {
   "cell_type": "markdown",
   "metadata": {},
   "source": [
    "# Feature Learning "
   ]
  },
  {
   "cell_type": "markdown",
   "metadata": {},
   "source": [
    "- The nodes in hidden layers are the new features that are learned after each layer"
   ]
  },
  {
   "cell_type": "markdown",
   "metadata": {},
   "source": [
    "- hidden layer \n",
    "- see the figure 2.20\n",
    "- input layers have three feature \n",
    "- After computing the forward pass to three new feature\n",
    "- next layers produce new features \n",
    "----\n",
    "#### produce features after each layers are not totally understood\n",
    "- we don't see them\n",
    "- and do not control much\n",
    "- This is Why we called hidden layers "
   ]
  },
  {
   "cell_type": "markdown",
   "metadata": {},
   "source": [
    "### What we do is with hidden layers \n",
    "- we look at the final output prediction\n",
    "- keep tuning some parameters until we are satisfied by network's perfomance"
   ]
  },
  {
   "cell_type": "markdown",
   "metadata": {},
   "source": [
    "# Error functions"
   ]
  },
  {
   "cell_type": "markdown",
   "metadata": {},
   "source": [
    "- We learned how to implemnment the forward pass in neural networks \n",
    "\n",
    "**Now how do we evaluate the prediction that the network just produced**\n",
    "\n",
    "- More importantly : how do we know how far this prediction is from the correct answer\n",
    "\n",
    "- answer is measure the error"
   ]
  },
  {
   "cell_type": "markdown",
   "metadata": {},
   "source": [
    "- selection of an error function is another important aspect of design of a neural networks\n",
    "- error function is referred to cost function or loss function"
   ]
  },
  {
   "cell_type": "markdown",
   "metadata": {},
   "source": [
    "# What is the error function "
   ]
  },
  {
   "cell_type": "markdown",
   "metadata": {},
   "source": [
    "- error function is measure how \"wrong\" the neural network prediction\n",
    "- it quantifies how far we are from the correct solution"
   ]
  },
  {
   "cell_type": "markdown",
   "metadata": {},
   "source": [
    "### Why do we need an error function?"
   ]
  },
  {
   "cell_type": "markdown",
   "metadata": {},
   "source": [
    "- Calculating error is optimization problem\n",
    "- optimaization problems focus on defining an error function \n",
    "- And trying to optimize its parameters to get the minimum error\n",
    "---\n",
    "- In optimiation problems \n",
    "- Our ultimate goal is to find the optimum variable(weight)\n",
    "- that minimize the error function as much as we can"
   ]
  },
  {
   "cell_type": "markdown",
   "metadata": {},
   "source": [
    "### Error is always positive "
   ]
  },
  {
   "cell_type": "markdown",
   "metadata": {},
   "source": [
    "- example\n",
    "- 1st error give 10, 2nd error give -10\n",
    "- Total error is 0 seem perfect prediction(actually not)\n",
    "---\n",
    "- We want the error of each prediction to be positive "
   ]
  },
  {
   "cell_type": "markdown",
   "metadata": {},
   "source": [
    "### error function\n",
    "- error function can effect the prediction \n",
    "- most common error function is \n",
    "- mean squared error(regression) / cross entorpy(classification)"
   ]
  },
  {
   "cell_type": "markdown",
   "metadata": {},
   "source": [
    "### Mean square error\n",
    "- MSE is used in regression problems \n",
    "$$ E(W,b) = \\frac{1}{N}\\sum_{i}^{N}(\\hat{y}_i - y_i)^2$$"
   ]
  },
  {
   "cell_type": "markdown",
   "metadata": {},
   "source": [
    "- MSE is good choice for a few reasons \n",
    "- suare ensures error is always positive\n",
    "- larger errors are penalized(처벌) more than smaller errors \n",
    "---\n",
    "- MSE is quite sensitive to outliers \n",
    "- 이게 좋을때도/ 나쁠때도 있다.\n",
    "--- \n",
    "- Variation called\n",
    "- E(w,b) - loss functino\n",
    "- W - weight matrix\n",
    "- b - Biases vector\n",
    "- N - number of training example\n",
    "- $\\hat{y}$ - prediction output\n",
    "- y - correct output\n",
    "-($\\hat{y} - y$) - residual"
   ]
  },
  {
   "cell_type": "markdown",
   "metadata": {},
   "source": [
    "### Cross-entropy"
   ]
  },
  {
   "cell_type": "markdown",
   "metadata": {},
   "source": [
    "- Cross entropy is commonly used in classification \n",
    "- it quantifies the difference between tow probability distributions"
   ]
  },
  {
   "cell_type": "markdown",
   "metadata": {},
   "source": [
    "- example\n",
    "\n",
    "- target disribution\n",
    "- P(cat) = 0, P(dog) = 1, P(fish) = 0\n",
    "\n",
    "- ml predict\n",
    "- P(cat) = 0.2, P(dog) = 0.3, P(fish) = 0.5\n",
    "\n",
    "- HOW close is the predicted distribution to the true distribution is cross entropy\n",
    "$$E(W,b) = - \\sum_{i-1}^{m}\\hat{y}_ilog(p_i)$$"
   ]
  },
  {
   "cell_type": "markdown",
   "metadata": {},
   "source": [
    "- y is target probability\n",
    "- p is predicted probability\n",
    "- m is number of classes "
   ]
  },
  {
   "cell_type": "markdown",
   "metadata": {},
   "source": [
    "E = -(0 * log(0.2) + 1.0 * log(0.3) + 0* log(0.5)) = 1.2"
   ]
  },
  {
   "cell_type": "markdown",
   "metadata": {},
   "source": [
    "#### 1.2 is  value how wrong or \"far away\" our prediction is from the true distribution "
   ]
  },
  {
   "cell_type": "markdown",
   "metadata": {},
   "source": [
    "- To calc the cross-entropy error across all training example (n)\n",
    "$$ E(W,b) = - \\sum_{i=1}^{n}\\sum_{i-1}^{m}\\hat{y}_ilog(p_i)$$"
   ]
  },
  {
   "cell_type": "markdown",
   "metadata": {},
   "source": [
    "## A final note on errors and weights "
   ]
  },
  {
   "cell_type": "markdown",
   "metadata": {},
   "source": [
    "- in order for neural network to learn \n",
    "- it needs to minimize the error function as much as possible\n",
    "---\n",
    "- 'How do we minimize the error?'\n",
    "- adjusting weight "
   ]
  },
  {
   "cell_type": "markdown",
   "metadata": {},
   "source": [
    "<img src =\"https://blog.kakaocdn.net/dn/c27SIt/btq3AqJNOJ9/D5El8x9zx2igtSvEgeG7h1/img.png\">"
   ]
  },
  {
   "cell_type": "markdown",
   "metadata": {},
   "source": [
    "- plot the error fuction with respect to the weight\n",
    "\n",
    "- we initialize the network with random weights\n",
    "- The weight lies womewhere on this curve\n",
    "- our mission is to make it descend this curve to its optimal value with the minimum error\n",
    "#### optimization algorism is process\n",
    "- finding goal weights by adjusting the weight values "
   ]
  },
  {
   "cell_type": "markdown",
   "metadata": {},
   "source": [
    "# Batch gradient descent"
   ]
  },
  {
   "cell_type": "markdown",
   "metadata": {},
   "source": [
    "- The general definition of a gradient(derivative)\n",
    "- The function that tells you the slope or rate of change of the line \n",
    "- that is tangent(접선) TO THE CURVE AT ANY GIVEN POINT"
   ]
  },
  {
   "cell_type": "markdown",
   "metadata": {},
   "source": [
    "#### Gradinet descent Means\n",
    "- the weights iteratively to descend the slope of the error curve untill we get the minimum error point\n",
    "<img src =\"https://blog.kakaocdn.net/dn/ccjU91/btq3Feg3LhD/282G2CGM7ZubS1pnnG2sK0/img.png\">"
   ]
  },
  {
   "cell_type": "markdown",
   "metadata": {},
   "source": [
    "## How Does Gradient Descent Work?"
   ]
  },
  {
   "cell_type": "code",
   "execution_count": null,
   "metadata": {},
   "outputs": [],
   "source": []
  }
 ],
 "metadata": {
  "kernelspec": {
   "display_name": "Python 3",
   "language": "python",
   "name": "python3"
  },
  "language_info": {
   "codemirror_mode": {
    "name": "ipython",
    "version": 3
   },
   "file_extension": ".py",
   "mimetype": "text/x-python",
   "name": "python",
   "nbconvert_exporter": "python",
   "pygments_lexer": "ipython3",
   "version": "3.8.5"
  }
 },
 "nbformat": 4,
 "nbformat_minor": 5
}
