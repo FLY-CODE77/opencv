{
 "cells": [
  {
   "cell_type": "markdown",
   "id": "enormous-savannah",
   "metadata": {},
   "source": [
    "# Deep learning and neural networks"
   ]
  },
  {
   "cell_type": "markdown",
   "id": "chicken-withdrawal",
   "metadata": {},
   "source": [
    "- Understanding perceptrons and multilayer perceptrons\n",
    "- Working with the different types of actication functions\n",
    "- Training networks with feedforward, error functions, and error optimization\n",
    "- performing backpropagation"
   ]
  },
  {
   "cell_type": "markdown",
   "id": "running-jamaica",
   "metadata": {},
   "source": [
    "## Understanding perceptrons"
   ]
  },
  {
   "cell_type": "markdown",
   "id": "worse-nepal",
   "metadata": {},
   "source": [
    "- ANN(artificail neurual network) = MLP(multilayer perceptron)\n"
   ]
  },
  {
   "cell_type": "markdown",
   "id": "private-regression",
   "metadata": {},
   "source": [
    "### what is a perceptron"
   ]
  },
  {
   "cell_type": "markdown",
   "id": "advised-catalyst",
   "metadata": {},
   "source": [
    "- simple neural network is the perceptron - which consists of a single neuron\n",
    "- anrificial neuron performs two consecutive function\n",
    "    + calculates the weighted sum of the inputs : repersent the total strngth of the input signal\n",
    "    + applies a step function : to the result to determine whether to fire the output 1\n",
    "        + if signal exceed a certain thershold or 0 the signal doesn' exceed the threshold "
   ]
  },
  {
   "cell_type": "markdown",
   "id": "apparent-anaheim",
   "metadata": {},
   "source": [
    "not all input features are equally usefull or important \n",
    "- to represent that each input node is assigned a weight value : connection weight "
   ]
  },
  {
   "cell_type": "markdown",
   "id": "coral-pipeline",
   "metadata": {},
   "source": [
    "#### connection weights\n",
    "- not all input features are not equally important\n",
    "- each input feature is assigned its own weight : reflectts its importance in decision-making process\n",
    "- inputs assigned greater weight have a greater effect on the output\n",
    "- if weight is high : amplifies the input signal, if low : diminishes the input signal\n"
   ]
  },
  {
   "cell_type": "markdown",
   "id": "pregnant-little",
   "metadata": {},
   "source": [
    "### img of input perceptron"
   ]
  },
  {
   "cell_type": "markdown",
   "id": "sixth-cookbook",
   "metadata": {},
   "source": [
    "<img src= \"https://img1.daumcdn.net/thumb/R1280x0/?scode=mtistory2&fname=https%3A%2F%2Fblog.kakaocdn.net%2Fdn%2FBMQfD%2Fbtq1MpTtRXm%2FF1CI61tP0j4QcuwfVHbh5K%2Fimg.png\">"
   ]
  },
  {
   "cell_type": "markdown",
   "id": "boolean-flush",
   "metadata": {},
   "source": [
    "### weighted sum function\n",
    "- aka linear combination\n",
    "    + the sum of all inputs multiplied by their weights and then added a bias term\n",
    "    - $z = \\sum({x_i} * {w_i} + b(bias))$"
   ]
  },
  {
   "cell_type": "code",
   "execution_count": 3,
   "id": "sound-sweet",
   "metadata": {},
   "outputs": [],
   "source": [
    "# python code"
   ]
  },
  {
   "cell_type": "code",
   "execution_count": 4,
   "id": "private-siemens",
   "metadata": {},
   "outputs": [
    {
     "name": "stdout",
     "output_type": "stream",
     "text": [
      "14.001\n"
     ]
    }
   ],
   "source": [
    "import numpy as np\n",
    "w = np.array([0.1, 0.2, 0.3])\n",
    "x = np.array([10, 20, 30])\n",
    "b = 0.001\n",
    "\n",
    "z = np.dot(w.T,x) + b\n",
    "print(z)"
   ]
  },
  {
   "cell_type": "markdown",
   "id": "pharmaceutical-physiology",
   "metadata": {},
   "source": [
    "#### what is a bias in the perceptron, and why do we add it?"
   ]
  },
  {
   "cell_type": "code",
   "execution_count": 5,
   "id": "consecutive-stopping",
   "metadata": {},
   "outputs": [
    {
     "data": {
      "image/png": "[encoded data removed]",
      "text/plain": [
       "<Figure size 432x288 with 1 Axes>"
      ]
     },
     "metadata": {
      "needs_background": "light"
     },
     "output_type": "display_data"
    }
   ],
   "source": [
    "import seaborn as sns\n",
    "import pandas as pd\n",
    "import matplotlib.pylab as plt\n",
    "\n",
    "y = list([1,2,3,4,10,5,6])\n",
    "x = list([-10, -20, -30, -49, -89, -47, -77])\n",
    "\n",
    "data = pd.DataFrame({\"x\":x, \"y\":y})\n",
    "\n",
    "sns.regplot(x = data[\"x\"] ,y = data[\"y\"], data = data)\n",
    "plt.title('Scatter Plot with Regression Line by regplot()', fontsize=20)\n",
    "plt.show()\n",
    "\n",
    "# this grap show why we the bias : which pass (0,0) is imposible "
   ]
  },
  {
   "cell_type": "markdown",
   "id": "later-column",
   "metadata": {},
   "source": [
    "- The function of stright line is represented by equation (y = mx +b)\n",
    "- where b is the y-intercept \n",
    "\n",
    "---\n",
    "- To be able to define a line need two things: slope of the line, point on the line\n",
    "- bias is that point on the y-axis\n",
    "- bias allows you to move the line up and down : better prediction with the data\n",
    "---\n",
    "- without bias the line always has to go through the original point(0,0) : poorer fit "
   ]
  },
  {
   "cell_type": "markdown",
   "id": "announced-screening",
   "metadata": {},
   "source": [
    "### Step activation function"
   ]
  },
  {
   "cell_type": "markdown",
   "id": "chubby-metadata",
   "metadata": {},
   "source": [
    "- Neuron does not just output the bare input it receives\n",
    "- Instead one more step : called an activation function\n",
    "    + activation function : decision making unit of the brain"
   ]
  },
  {
   "cell_type": "markdown",
   "id": "coastal-rover",
   "metadata": {},
   "source": [
    "- In ANNs, the activation function takes the same weighted sum input \n",
    "- from before (z = Σx i · w i + b) and activates (fires) the neuron\n",
    "- activates if weighted sum is higher than a certain threshold"
   ]
  },
  {
   "cell_type": "markdown",
   "id": "underlying-float",
   "metadata": {},
   "source": [
    "- The simplest activation function used by the perceptron \n",
    "\n",
    "- step function that produces a binary output (0 or 1).\n",
    "- if the summed input ≥ 0, it “fires” (output = 1);\n",
    "- else (summed input < 0), it doesn’t fire (out-put = 0) "
   ]
  },
  {
   "cell_type": "code",
   "execution_count": 6,
   "id": "orange-craps",
   "metadata": {},
   "outputs": [
    {
     "data": {
      "image/png": "[encoded data removed]",
      "text/plain": [
       "<Figure size 432x288 with 1 Axes>"
      ]
     },
     "metadata": {
      "needs_background": "light"
     },
     "output_type": "display_data"
    }
   ],
   "source": [
    "y = np.array([0,0,0,0,1,1,1,1])\n",
    "x = np.array([-3, -2, -1,0,0,1,2,3])\n",
    "data = pd.DataFrame({\"x\":x, \"y\":y})\n",
    "\n",
    "plt.plot(data[\"x\"], data[\"y\"])\n",
    "plt.title(\"Step function\")\n",
    "plt.show()\n"
   ]
  },
  {
   "cell_type": "code",
   "execution_count": 7,
   "id": "published-netherlands",
   "metadata": {},
   "outputs": [],
   "source": [
    "# step function(z) in python\n",
    "# for the single val\n",
    "\n",
    "def step_function(z):\n",
    "    if z <= 0:\n",
    "        return 0\n",
    "    else:\n",
    "        return 1"
   ]
  },
  {
   "cell_type": "code",
   "execution_count": 8,
   "id": "cooked-correction",
   "metadata": {},
   "outputs": [],
   "source": [
    "# step function(z) in python\n",
    "# for the list\n",
    "\n",
    "def step_function(num_list):\n",
    "    step_list = []\n",
    "    \n",
    "    for i in range(len(num_list)):\n",
    "        val = num_list[i] \n",
    "\n",
    "        if val <= 0:\n",
    "            step_list.append(0)\n",
    "        \n",
    "        else:\n",
    "            step_list.append(1)\n",
    "    \n",
    "    return step_list"
   ]
  },
  {
   "cell_type": "code",
   "execution_count": 9,
   "id": "black-portfolio",
   "metadata": {
    "scrolled": false
   },
   "outputs": [
    {
     "data": {
      "text/plain": [
       "[<matplotlib.lines.Line2D at 0x7efce05e6d50>]"
      ]
     },
     "execution_count": 9,
     "metadata": {},
     "output_type": "execute_result"
    },
    {
     "data": {
      "image/png": "[encoded data removed]",
      "text/plain": [
       "<Figure size 432x288 with 1 Axes>"
      ]
     },
     "metadata": {
      "needs_background": "light"
     },
     "output_type": "display_data"
    }
   ],
   "source": [
    "# data\n",
    "ls = (np.arange(-10, 10, 0.1))\n",
    "\n",
    "plt.plot(ls, step_function(ls))"
   ]
  },
  {
   "cell_type": "markdown",
   "id": "tracked-flower",
   "metadata": {},
   "source": [
    "### How does the perceptron learn"
   ]
  },
  {
   "cell_type": "markdown",
   "id": "amber-chance",
   "metadata": {},
   "source": [
    "- The perceptron uses trial and error to learn from it mistakes\n",
    "- Use the weights as knobs by tuning their values up and down until the network is trained"
   ]
  },
  {
   "cell_type": "markdown",
   "id": "flexible-turtle",
   "metadata": {},
   "source": [
    "### The perceptron's learning logic \n",
    "- The neuron calc the weighted sum and applies the activation function to maked a prediction $\\hat y$ (feeforward process)\n",
    "\n",
    "    #### $ \\hat y = activation(\\sum{x_i * w_i + b})$\n",
    "\n",
    "\n",
    "- Compares the output prediction with the correct label to calc the error\n",
    "    #### $error =  y - \\hat y$\n",
    "\n",
    "\n",
    "\n",
    "- Updates the weight. If prediction is too high, adjusts the weight to make a lower prediction next time, vice versa too\n",
    "\n",
    "\n",
    "- Repeat"
   ]
  },
  {
   "cell_type": "markdown",
   "id": "conceptual-heater",
   "metadata": {},
   "source": [
    "- This process is repeated many times, and the neuron continues to update the weight to import predictions until step2 produce very small error"
   ]
  },
  {
   "cell_type": "markdown",
   "id": "invalid-universal",
   "metadata": {},
   "source": [
    "### Is one neuron enough to solve complex problems?"
   ]
  },
  {
   "cell_type": "markdown",
   "id": "undefined-announcement",
   "metadata": {},
   "source": [
    "- Short answer is no\n",
    "#### then why?\n",
    "\n",
    "\n",
    "- The perceptron is a linear function, trained neuron will produce a straight line that separates our data\n",
    "- Single perceptron works fine when our data was linearly separable.\n"
   ]
  },
  {
   "cell_type": "markdown",
   "id": "settled-anthony",
   "metadata": {},
   "source": [
    "#### Complex dataset example"
   ]
  },
  {
   "cell_type": "markdown",
   "id": "ignored-protection",
   "metadata": {},
   "source": [
    "<img src = \"https://img1.daumcdn.net/thumb/R1280x0/?scode=mtistory2&fname=https%3A%2F%2Fblog.kakaocdn.net%2Fdn%2Fy8tcL%2Fbtq11AlXlmj%2FBZtQlFxIkP3qi878bCR2Mk%2Fimg.png\" align=\"left\">"
   ]
  },
  {
   "cell_type": "markdown",
   "id": "sorted-black",
   "metadata": {},
   "source": [
    "#### But\n",
    "\n",
    "- When we have a more complex dataset that cannot be separated by a straight line\n",
    "- the more neurons we add, the better the network will fit our training data \n",
    "- In fact, if wee add too many neurons, this will make the network overfit the training data(Not good)\n"
   ]
  },
  {
   "cell_type": "markdown",
   "id": "affiliated-johns",
   "metadata": {},
   "source": [
    "### Multilayer perceptrons "
   ]
  },
  {
   "cell_type": "markdown",
   "id": "written-nerve",
   "metadata": {},
   "source": [
    "Linear vs nonlinear problems \n",
    "- Linear datasets - The data can be split with a single straight line\n",
    "- Nonlinear datasets - The data cannot be split with a single straight line\n",
    "- need more than one line to form a shape that splits the data "
   ]
  },
  {
   "cell_type": "markdown",
   "id": "pacific-chester",
   "metadata": {},
   "source": [
    "#### To split a nonlinear dataset, We need more than on line.\n"
   ]
  },
  {
   "cell_type": "markdown",
   "id": "typical-hepatitis",
   "metadata": {},
   "source": [
    "### Multilayer perceptron architecture "
   ]
  },
  {
   "cell_type": "markdown",
   "id": "accessible-intake",
   "metadata": {},
   "source": [
    "<img src = \"https://img1.daumcdn.net/thumb/R1280x0/?scode=mtistory2&fname=https%3A%2F%2Fblog.kakaocdn.net%2Fdn%2F0Ovqt%2Fbtq10RPjMrG%2FgFRDXGY2sTSjF8zAUvdykK%2Fimg.png\">"
   ]
  },
  {
   "cell_type": "markdown",
   "id": "addressed-prediction",
   "metadata": {},
   "source": [
    "- Main components of the neural network architecture\n",
    "\n",
    "- Input layer - contains the feature vector\n",
    "    \n",
    "- Hidden layers - The neurons are stacked on top of each other\n",
    "    \n",
    "- Weight connections(edges)\n",
    "    - assigned to each connection between the nodes \n",
    "    - reflect the importance of their influence on the final output prediction \n",
    "    \n",
    "- output layers - Get the answer of prediction from our model from the output layer"
   ]
  },
  {
   "cell_type": "markdown",
   "id": "joint-symbol",
   "metadata": {},
   "source": [
    "- Why we called hidden layers\n",
    "    + Because we don't see or control the input going into these layers or the output"
   ]
  },
  {
   "cell_type": "markdown",
   "id": "useful-desert",
   "metadata": {},
   "source": [
    "### what are hidden layers?\n",
    "- Core of the feature-learning process takes place \n",
    "\n",
    "- We stack hidden layers to learn complex features from each other until we fit our data\n",
    "\n",
    "- If your network is not fitting the data, the solution could be adding more hidden layers"
   ]
  },
  {
   "cell_type": "markdown",
   "id": "legislative-method",
   "metadata": {},
   "source": [
    "### How many layers and how many nodes in each layer?"
   ]
  },
  {
   "cell_type": "markdown",
   "id": "irish-compromise",
   "metadata": {},
   "source": [
    "- There is no answers\n",
    "- Build network not too simple and not too complex for my data."
   ]
  },
  {
   "cell_type": "markdown",
   "id": "numeric-minutes",
   "metadata": {},
   "source": [
    "### Activation functions"
   ]
  },
  {
   "cell_type": "markdown",
   "id": "magnetic-sector",
   "metadata": {},
   "source": [
    "- When building neural network, one of the design decisions \"**activation function**\"\n",
    "- To use for neurons' calcuation\n",
    "- Activation function  == transfer function == nonlinearities\n",
    "---\n",
    "- Activation function transform the linear combination of a weight sum into a nonlinear model \n",
    "- Activation func is placed at the end of each perceptron to decide whether to activate this neuron"
   ]
  },
  {
   "cell_type": "markdown",
   "id": "exempt-shore",
   "metadata": {},
   "source": [
    "#### The purpose of the activation function is to introduce nonlinearity into the network\n",
    "- without activation function multilayer perceptron will perform similarly to a single perceptron\n",
    "- Activation function need to restrict the output value to certain finite value"
   ]
  },
  {
   "cell_type": "markdown",
   "id": "legendary-murder",
   "metadata": {},
   "source": [
    "<img src = \"https://blog.kakaocdn.net/dn/bULoxN/btq2s5dSehw/SnfsQDfVbaYxqW9mBocAfK/img.png\">"
   ]
  },
  {
   "cell_type": "markdown",
   "id": "eight-member",
   "metadata": {},
   "source": [
    "- this model calculates the weighted sum and produces the linear function(z):\n",
    "- z =  height * w1 + age * w2 + b \n",
    "- The z(output) has no bound, z could literally be any number\n",
    "- We use activation function to wrap ther prediction to a finite value "
   ]
  },
  {
   "cell_type": "markdown",
   "id": "modern-personal",
   "metadata": {},
   "source": [
    "# Learn more about activation functions "
   ]
  },
  {
   "cell_type": "markdown",
   "id": "norman-access",
   "metadata": {},
   "source": [
    "### Linear transfer function "
   ]
  },
  {
   "cell_type": "markdown",
   "id": "federal-investing",
   "metadata": {},
   "source": [
    "- Linear transfer function or called a identity function \n",
    "- output will be equal to ther input \n",
    "- no matter how many layers our neural network has,\n",
    "- Doing is computing a linear activation function\n",
    "\n",
    "- **activation(z) = z = wx+b**\n",
    "---\n",
    "- composition of two linear function is still linear function \n",
    "- no matter how deep you make your network, \"**no learning here**\"\n",
    "\n",
    "---\n",
    "Why no learning?\n",
    "- y = 4x y' = 4 so backpropagation is always 4 it means we can't improving the error"
   ]
  },
  {
   "cell_type": "markdown",
   "id": "copyrighted-colors",
   "metadata": {},
   "source": [
    "### Heaviside step function(Binary classifier)"
   ]
  },
  {
   "cell_type": "markdown",
   "id": "solid-indianapolis",
   "metadata": {},
   "source": [
    "- The step function produces a binary output \n",
    "    + if input x > 0, ㅑti fires(output y = 1)\n",
    "    - elif it doesn't fire \n",
    "- mainly used in binary classification problems \n"
   ]
  },
  {
   "cell_type": "code",
   "execution_count": 10,
   "id": "wooden-absolute",
   "metadata": {},
   "outputs": [
    {
     "data": {
      "text/plain": [
       "[<matplotlib.lines.Line2D at 0x7efce05e08d0>]"
      ]
     },
     "execution_count": 10,
     "metadata": {},
     "output_type": "execute_result"
    },
    {
     "data": {
      "image/png": "[encoded data removed]",
      "text/plain": [
       "<Figure size 432x288 with 1 Axes>"
      ]
     },
     "metadata": {
      "needs_background": "light"
     },
     "output_type": "display_data"
    }
   ],
   "source": [
    "# data\n",
    "ls = (np.arange(-10, 10, 0.1))\n",
    "\n",
    "plt.plot(ls, step_function(ls))"
   ]
  },
  {
   "cell_type": "markdown",
   "id": "southern-montana",
   "metadata": {},
   "source": [
    "# Sigmoid/ logistic function "
   ]
  },
  {
   "cell_type": "markdown",
   "id": "sexual-roads",
   "metadata": {},
   "source": [
    "- one of the most common activation function\n",
    "- it even used in binary classifier to predict the probalility of a each class \n",
    "- The sigmoid squishes all the values to probability between 0 and 1\n",
    "- which reduce extrme values or outliers in the data without removing them \n",
    "- sigmoid or logistic function convert infinite continuous variables into simple probabilites between 0 and 1\n",
    "---\n",
    "sigmoid also called the s-shape curve because when plot : it produces s shaped curve\n",
    "\n",
    "---\n",
    "#### when step function is use discrete answer ( pass or fail)\n",
    "#### sigmoid is used to produce the probability of passing ann failing "
   ]
  },
  {
   "cell_type": "code",
   "execution_count": 11,
   "id": "burning-senegal",
   "metadata": {},
   "outputs": [],
   "source": [
    "import numpy as np \n",
    "\n",
    "def sigmoid(x):\n",
    "    return 1/ (1 + np.exp(-x))"
   ]
  },
  {
   "cell_type": "code",
   "execution_count": 15,
   "id": "blessed-faculty",
   "metadata": {},
   "outputs": [
    {
     "data": {
      "image/png": "[encoded data removed]",
      "text/plain": [
       "<Figure size 432x288 with 1 Axes>"
      ]
     },
     "metadata": {
      "needs_background": "light"
     },
     "output_type": "display_data"
    }
   ],
   "source": [
    "x = np.arange(-10, 10, 0.1)\n",
    "plt.plot(sigmoid(x))\n",
    "plt.grid('on')"
   ]
  },
  {
   "cell_type": "markdown",
   "id": "willing-objective",
   "metadata": {},
   "source": [
    "### Just in time linear algebra"
   ]
  },
  {
   "cell_type": "markdown",
   "id": "concrete-richardson",
   "metadata": {},
   "source": [
    "- Sigmoid"
   ]
  },
  {
   "cell_type": "markdown",
   "id": "usual-omega",
   "metadata": {},
   "source": [
    "- Let's suppose we make amazing algorism with below formula\n",
    "- z = $\\beta_0 + \\beta_1(Age)$"
   ]
  },
  {
   "cell_type": "code",
   "execution_count": 16,
   "id": "exempt-flooring",
   "metadata": {},
   "outputs": [],
   "source": [
    "def formula(x, b0, b):\n",
    "    return b0 + (b * x)"
   ]
  },
  {
   "cell_type": "code",
   "execution_count": 29,
   "id": "injured-necklace",
   "metadata": {},
   "outputs": [],
   "source": [
    "x = np.arange(20, 50 , 1)"
   ]
  },
  {
   "cell_type": "code",
   "execution_count": 36,
   "id": "copyrighted-watch",
   "metadata": {},
   "outputs": [
    {
     "data": {
      "image/png": "[encoded data removed]",
      "text/plain": [
       "<Figure size 432x288 with 1 Axes>"
      ]
     },
     "metadata": {
      "needs_background": "light"
     },
     "output_type": "display_data"
    }
   ],
   "source": [
    "plt.plot(formula(x, -2, 0.08))\n",
    "plt.grid(\"on\")"
   ]
  },
  {
   "cell_type": "markdown",
   "id": "established-borough",
   "metadata": {},
   "source": [
    "- if we want to make output range 0 ~ 1 \n",
    "- what we can do?"
   ]
  },
  {
   "cell_type": "code",
   "execution_count": 65,
   "id": "recovered-galaxy",
   "metadata": {
    "scrolled": true
   },
   "outputs": [
    {
     "data": {
      "text/plain": [
       "[<matplotlib.lines.Line2D at 0x7efcdeac6190>]"
      ]
     },
     "execution_count": 65,
     "metadata": {},
     "output_type": "execute_result"
    },
    {
     "data": {
      "image/png": "[encoded data removed]",
      "text/plain": [
       "<Figure size 432x288 with 1 Axes>"
      ]
     },
     "metadata": {
      "needs_background": "light"
     },
     "output_type": "display_data"
    }
   ],
   "source": [
    "plt.plot(np.exp(formula(x, -2, 0.05)))\n",
    "# but still exceed 1"
   ]
  },
  {
   "cell_type": "code",
   "execution_count": 63,
   "id": "representative-stations",
   "metadata": {},
   "outputs": [],
   "source": [
    "x = np.arange(-1000, 1000 , 0.01)"
   ]
  },
  {
   "cell_type": "code",
   "execution_count": 67,
   "id": "necessary-healing",
   "metadata": {},
   "outputs": [
    {
     "data": {
      "text/plain": [
       "[<matplotlib.lines.Line2D at 0x7efcdf22c9d0>]"
      ]
     },
     "execution_count": 67,
     "metadata": {},
     "output_type": "execute_result"
    },
    {
     "data": {
      "image/png": "[encoded data removed]",
      "text/plain": [
       "<Figure size 432x288 with 1 Axes>"
      ]
     },
     "metadata": {
      "needs_background": "light"
     },
     "output_type": "display_data"
    }
   ],
   "source": [
    "b = np.exp(formula(x, -2, 0.05))\n",
    "a = np.exp(formula(x, -2, 0.05)) +1\n",
    "plt.plot(b/a)\n",
    "# divide the equation by its value plus a small value"
   ]
  },
  {
   "cell_type": "markdown",
   "id": "recovered-fight",
   "metadata": {},
   "source": [
    "### now we get the S shape of the sigmoid function \n",
    "- This is the plot of the sigmoid function and logistic regression \n",
    "\n",
    "- $p = \\frac{1}{1 + exp(-z)}$"
   ]
  },
  {
   "cell_type": "markdown",
   "id": "communist-newton",
   "metadata": {},
   "source": [
    "# softmax function "
   ]
  },
  {
   "cell_type": "markdown",
   "id": "hidden-divide",
   "metadata": {},
   "source": [
    "- softmax function is generalization of the sigmoid function \n",
    "- this is used to obtain classification probability when more than two classed \n",
    "- softmax forces the outputs of a neural network to sum to 1 \n",
    "#### in deep learning problem \n",
    "- predict a single class out of many options(more than two)"
   ]
  },
  {
   "cell_type": "markdown",
   "id": "human-sector",
   "metadata": {},
   "source": [
    "# $$\\sigma(x_j) = \\frac{\\exp^{x_j}}{\\sum_i{\\exp^{x_j}}}$$"
   ]
  },
  {
   "cell_type": "markdown",
   "id": "looking-mounting",
   "metadata": {},
   "source": [
    "input = [1.2, 0.9, 0.4]\n",
    "\n",
    "\n",
    "$ \\Downarrow$\n",
    "\n",
    "Softmax\n",
    "\n",
    "\n",
    "$ \\Downarrow$\n",
    " \n",
    "output = [0.46, 0.34, 0.20]"
   ]
  },
  {
   "cell_type": "markdown",
   "id": "knowing-phenomenon",
   "metadata": {},
   "source": [
    "# Hyperbolic tangent function (tanh)"
   ]
  },
  {
   "cell_type": "markdown",
   "id": "married-jamaica",
   "metadata": {},
   "source": [
    "- shifted version of the sigmoid version \n",
    "- Instead of squeezing the signal values between 0, 1\n",
    "- tanh squishes all values to the range -1, 1\n",
    "---\n",
    "- Tanh almost always works better than the sigmoid function in hidden layer \n",
    "- Because ot has the effect of centering my data so the mean data is close to zero \n",
    "- rather than 0.5, which makes learning for next layer little bit easier \n",
    "\n",
    "$$ tanh(x) = \\frac{sinh(x)}{cosh(x)} = \\frac {\\exp^x - \\exp^{-x}}{\\exp^x + \\exp^{-x}}$$"
   ]
  },
  {
   "cell_type": "markdown",
   "id": "comparative-burden",
   "metadata": {},
   "source": [
    "#### Downsides \n",
    "- both sigmoid and tanh function  is if (z) is very large or very small \n",
    "- which slow down gradient descent \n",
    "- This is when the Relu activation function provides a solution "
   ]
  },
  {
   "cell_type": "code",
   "execution_count": 69,
   "id": "backed-husband",
   "metadata": {},
   "outputs": [],
   "source": [
    "def tanh(x):\n",
    "    a = np.exp(x) - np.exp(-x)\n",
    "    b = np.exp(x) + np.exp(-x)\n",
    "    return a/b"
   ]
  },
  {
   "cell_type": "code",
   "execution_count": 74,
   "id": "increased-campus",
   "metadata": {},
   "outputs": [
    {
     "data": {
      "image/png": "[encoded data removed]",
      "text/plain": [
       "<Figure size 432x288 with 1 Axes>"
      ]
     },
     "metadata": {
      "needs_background": "light"
     },
     "output_type": "display_data"
    }
   ],
   "source": [
    "x = np.arange(-10, 10 , 0.0001)\n",
    "plt.plot(tanh(x))\n",
    "plt.grid(\"on\")"
   ]
  },
  {
   "cell_type": "markdown",
   "id": "democratic-marks",
   "metadata": {},
   "source": [
    "# Rectified linear unit "
   ]
  },
  {
   "cell_type": "markdown",
   "id": "exempt-numbers",
   "metadata": {},
   "source": [
    "- The Rectified linear unit (Relu) is activation function \n",
    "- activates a node only if input above zero\n",
    "- if input is below zero, output always zero \n",
    "- But when the input is higher than zero\n",
    "- it has relationship with the output variable \n",
    "- The Relu function is represented as follows \n",
    "$$ f(X) = max(0, x)$$"
   ]
  },
  {
   "cell_type": "markdown",
   "id": "conventional-contractor",
   "metadata": {},
   "source": [
    "#### Relu is considered the state of art activation function \n",
    "- because it works well in many different situations\n",
    "- it tends to train better than sigmoid and tanh in hidden layers "
   ]
  },
  {
   "cell_type": "code",
   "execution_count": 120,
   "id": "hazardous-sherman",
   "metadata": {},
   "outputs": [],
   "source": [
    "x = np.arange(-10, 10, 0.1)"
   ]
  },
  {
   "cell_type": "code",
   "execution_count": 131,
   "id": "possible-discount",
   "metadata": {},
   "outputs": [],
   "source": [
    "def RELU(x):\n",
    "    a = []\n",
    "    for i in range(len(x)):\n",
    "        if  x[i] <0 :\n",
    "            a.append(0)\n",
    "        else:\n",
    "            a.append(x[i])\n",
    "    return a"
   ]
  },
  {
   "cell_type": "code",
   "execution_count": 135,
   "id": "higher-plain",
   "metadata": {},
   "outputs": [
    {
     "data": {
      "image/png": "[encoded data removed]",
      "text/plain": [
       "<Figure size 432x288 with 1 Axes>"
      ]
     },
     "metadata": {
      "needs_background": "light"
     },
     "output_type": "display_data"
    }
   ],
   "source": [
    "plt.plot(RELU(x))\n",
    "plt.grid(\"on\")"
   ]
  },
  {
   "cell_type": "markdown",
   "id": "orange-reynolds",
   "metadata": {},
   "source": [
    "# Leaky ReLU"
   ]
  },
  {
   "cell_type": "markdown",
   "id": "utility-thunder",
   "metadata": {},
   "source": [
    "- One disadvantage of Relu activation \n",
    "    - derivative is equal to zero when x is negative\n",
    "\n",
    "- Leaky Relu is Relu variation tries to mitigate this issue\n",
    "- when x< 0, Leaky Relu introdueces a small negative slope\n",
    "\n",
    "$$ f(x) = max(0.01x,x)$$\n",
    "\n",
    "- why 0.01 some people like to use to tune this hyperparameter to tune, but overkill\n",
    "- feel try values likes 0.1 , 0.01, 0.002)"
   ]
  },
  {
   "cell_type": "code",
   "execution_count": 14,
   "id": "parliamentary-hygiene",
   "metadata": {},
   "outputs": [],
   "source": [
    "def leaky_relu(x):\n",
    "    a = []\n",
    "    for i in range(len(x)):\n",
    "        if x[i] < 0 :\n",
    "            a.append(x[i] * 0.01)\n",
    "        else:\n",
    "            a.append(x[i])\n",
    "    return a "
   ]
  },
  {
   "cell_type": "code",
   "execution_count": 22,
   "id": "conceptual-greeting",
   "metadata": {
    "scrolled": true
   },
   "outputs": [
    {
     "data": {
      "image/png": "[encoded data removed]",
      "text/plain": [
       "<Figure size 432x288 with 1 Axes>"
      ]
     },
     "metadata": {
      "needs_background": "light"
     },
     "output_type": "display_data"
    }
   ],
   "source": [
    "x = np.arange(-10, 10 , 1)\n",
    "plt.plot(leaky_relu(x))\n",
    "plt.grid(\"on\")"
   ]
  },
  {
   "cell_type": "markdown",
   "id": "cooperative-comment",
   "metadata": {},
   "source": [
    "# Hyperparameter alert"
   ]
  },
  {
   "cell_type": "markdown",
   "id": "opponent-headline",
   "metadata": {},
   "source": [
    "**how to select activation function**\n",
    "\n",
    "- For hidden layes \n",
    "- Most case, Use the Relu activation function or leaky\n",
    "- it is a bit faster to compute than other activation functions\n",
    "- More importantly, it reduces likelihood of gradinet vanishing \n",
    "- it does not saturate for large input values \n",
    "- as opposed to the sigmoid and tanh are saturate at ~ 1\n",
    "#### Remember gradient is slop \n",
    "- when function plateaus this will lead to no slope \n",
    "- hence gradient start to vanish : this make harder to descent to minimum error \n",
    "\n",
    "---\n",
    "- For output layers\n",
    "- Softmax activation function is generally a good choice for most classification pronlems \n",
    "- sigmoid function serves for binary classification\n",
    "- For regression probelms simply use no activation function at all\n",
    "    + since the weighted sum node produces the continuos output that you need "
   ]
  },
  {
   "cell_type": "markdown",
   "id": "44b74c07",
   "metadata": {},
   "source": [
    "#### Review \n",
    "- We learned stack perceptrons in layers,\n",
    "- connect them with weights \n",
    "- perform a weight sum function\n",
    "- apply activation function \n",
    "\n",
    "> this step is called  feedforward "
   ]
  },
  {
   "cell_type": "markdown",
   "id": "french-surprise",
   "metadata": {},
   "source": [
    "# The feedforward process"
   ]
  },
  {
   "cell_type": "markdown",
   "id": "db47dae6",
   "metadata": {},
   "source": [
    "- Feedforward imply the forward direction in which the information flows\n",
    "- Flows from input layers through the hidden layers \n",
    "- All the way to output layer\n",
    "---\n",
    "- In short forward pass is calc through the layers to make prediction \n"
   ]
  },
  {
   "cell_type": "markdown",
   "id": "9bd60834",
   "metadata": {},
   "source": [
    "# With Vector we can transform neural net to vector function "
   ]
  },
  {
   "cell_type": "markdown",
   "id": "69ca674f",
   "metadata": {},
   "source": [
    "<img src=\"https://img1.daumcdn.net/thumb/R1280x0/?scode=mtistory2&fname=https%3A%2F%2Fblog.kakaocdn.net%2Fdn%2FmOtQM%2Fbtq3kkOGeb0%2FWilOhKZ68mL2zk41Wo9690%2Fimg.png\">"
   ]
  },
  {
   "cell_type": "markdown",
   "id": "f9a37a3c",
   "metadata": {},
   "source": [
    "<img src = \"https://img1.daumcdn.net/thumb/R1280x0/?scode=mtistory2&fname=https%3A%2F%2Fblog.kakaocdn.net%2Fdn%2F0zvN5%2Fbtq3itZEWDU%2FJHQxoUjLKINHnh1OEEKLk0%2Fimg.png\">"
   ]
  },
  {
   "cell_type": "markdown",
   "id": "809a4a91",
   "metadata": {},
   "source": [
    "# Feature Learning "
   ]
  },
  {
   "cell_type": "markdown",
   "id": "d0b1f9e2",
   "metadata": {},
   "source": [
    "- The nodes in hidden layers are the new features that are learned after each layer"
   ]
  },
  {
   "cell_type": "markdown",
   "id": "611ed593",
   "metadata": {},
   "source": [
    "- hidden layer \n",
    "- see the figure 2.20\n",
    "- input layers have three feature \n",
    "- After computing the forward pass to three new feature\n",
    "- next layers produce new features \n",
    "----\n",
    "#### produce features after each layers are not totally understood\n",
    "- we don't see them\n",
    "- and do not control much\n",
    "- This is Why we called hidden layers "
   ]
  },
  {
   "cell_type": "markdown",
   "id": "4010c3d6",
   "metadata": {},
   "source": [
    "### What we do is with hidden layers \n",
    "- we look at the final output prediction\n",
    "- keep tuning some parameters until we are satisfied by network's perfomance"
   ]
  },
  {
   "cell_type": "markdown",
   "id": "5b0179d4",
   "metadata": {},
   "source": [
    "# Error functions"
   ]
  },
  {
   "cell_type": "markdown",
   "id": "80db6c05",
   "metadata": {},
   "source": [
    "- We learned how to implemnment the forward pass in neural networks \n",
    "\n",
    "**Now how do we evaluate the prediction that the network just produced**\n",
    "\n",
    "- More importantly : how do we know how far this prediction is from the correct answer\n",
    "\n",
    "- answer is measure the error"
   ]
  },
  {
   "cell_type": "markdown",
   "id": "d426f711",
   "metadata": {},
   "source": [
    "- selection of an error function is another important aspect of design of a neural networks\n",
    "- error function is referred to cost function or loss function"
   ]
  },
  {
   "cell_type": "markdown",
   "id": "7c19f4c5",
   "metadata": {},
   "source": [
    "# What is the error function "
   ]
  },
  {
   "cell_type": "code",
   "execution_count": null,
   "id": "605836d3",
   "metadata": {},
   "outputs": [],
   "source": []
  }
 ],
 "metadata": {
  "kernelspec": {
   "display_name": "Python 3",
   "language": "python",
   "name": "python3"
  },
  "language_info": {
   "codemirror_mode": {
    "name": "ipython",
    "version": 3
   },
   "file_extension": ".py",
   "mimetype": "text/x-python",
   "name": "python",
   "nbconvert_exporter": "python",
   "pygments_lexer": "ipython3",
   "version": "3.7.10"
  }
 },
 "nbformat": 4,
 "nbformat_minor": 5
}
