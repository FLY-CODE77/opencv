{
 "cells": [
  {
   "cell_type": "markdown",
   "id": "enormous-savannah",
   "metadata": {},
   "source": [
    "# Deep learning and neural networks"
   ]
  },
  {
   "cell_type": "markdown",
   "id": "chicken-withdrawal",
   "metadata": {},
   "source": [
    "- Understanding perceptrons and multilayer perceptrons\n",
    "- Working with the different types of actication functions\n",
    "- Training networks with feedforward, error functions, and error optimization\n",
    "- performing backpropagation"
   ]
  },
  {
   "cell_type": "markdown",
   "id": "running-jamaica",
   "metadata": {},
   "source": [
    "## Understanding perceptrons"
   ]
  },
  {
   "cell_type": "markdown",
   "id": "worse-nepal",
   "metadata": {},
   "source": [
    "- ANN(artificail neurual network) = MLP(multilayer perceptron)\n"
   ]
  },
  {
   "cell_type": "markdown",
   "id": "private-regression",
   "metadata": {},
   "source": [
    "### what is a perceptron"
   ]
  },
  {
   "cell_type": "markdown",
   "id": "advised-catalyst",
   "metadata": {},
   "source": [
    "- simple neural network is the perceptron - which consists of a single neuron\n",
    "- anrificial neuron performs two consecutive function\n",
    "    + calculates the weighted sum of the inputs : repersent the total strngth of the input signal\n",
    "    + applies a step function : to the result to determine whether to fire the output 1\n",
    "        + if signal exceed a certain thershold or 0 the signal doesn' exceed the threshold "
   ]
  },
  {
   "cell_type": "markdown",
   "id": "apparent-anaheim",
   "metadata": {},
   "source": [
    "not all input features are equally usefull or important \n",
    "- to represent that each input node is assigned a weight value : connection weight "
   ]
  },
  {
   "cell_type": "markdown",
   "id": "coral-pipeline",
   "metadata": {},
   "source": [
    "#### connection weights\n",
    "- not all input features are not equally important\n",
    "- each input feature is assigned its own weight : reflectts its importance in decision-making process\n",
    "- inputs assigned greater weight have a greater effect on the output\n",
    "- if weight is high : amplifies the input signal, if low : diminishes the input signal\n"
   ]
  },
  {
   "cell_type": "markdown",
   "id": "pregnant-little",
   "metadata": {},
   "source": [
    "### img of input perceptron"
   ]
  },
  {
   "cell_type": "markdown",
   "id": "sixth-cookbook",
   "metadata": {},
   "source": [
    "<img src= \"https://img1.daumcdn.net/thumb/R1280x0/?scode=mtistory2&fname=https%3A%2F%2Fblog.kakaocdn.net%2Fdn%2FBMQfD%2Fbtq1MpTtRXm%2FF1CI61tP0j4QcuwfVHbh5K%2Fimg.png\">"
   ]
  },
  {
   "cell_type": "markdown",
   "id": "boolean-flush",
   "metadata": {},
   "source": [
    "### weighted sum function\n",
    "- aka linear combination\n",
    "    + the sum of all inputs multiplied by their weights and then added a bias term\n",
    "    - $z = \\sum({x_i} * {w_i} + b(bias))$"
   ]
  },
  {
   "cell_type": "code",
   "execution_count": null,
   "id": "sound-sweet",
   "metadata": {},
   "outputs": [],
   "source": [
    "# python code"
   ]
  },
  {
   "cell_type": "code",
   "execution_count": 13,
   "id": "private-siemens",
   "metadata": {},
   "outputs": [
    {
     "name": "stdout",
     "output_type": "stream",
     "text": [
      "14.001\n"
     ]
    }
   ],
   "source": [
    "import numpy as np\n",
    "w = np.array([0.1, 0.2, 0.3])\n",
    "x = np.array([10, 20, 30])\n",
    "b = 0.001\n",
    "\n",
    "z = np.dot(w.T,x) + b\n",
    "print(z)"
   ]
  },
  {
   "cell_type": "markdown",
   "id": "pharmaceutical-physiology",
   "metadata": {},
   "source": [
    "#### what is a bias in the perceptron, and why do we add it?"
   ]
  },
  {
   "cell_type": "code",
   "execution_count": 51,
   "id": "consecutive-stopping",
   "metadata": {},
   "outputs": [
    {
     "data": {
      "image/png": "[encoded data removed]",
      "text/plain": [
       "<Figure size 432x288 with 1 Axes>"
      ]
     },
     "metadata": {
      "needs_background": "light"
     },
     "output_type": "display_data"
    }
   ],
   "source": [
    "import seaborn as sns\n",
    "import pandas as pd\n",
    "\n",
    "y = list([1,2,3,4,10,5,6])\n",
    "x = list([-10, -20, -30, -49, -89, -47, -77])\n",
    "data = pd.DataFrame({\"x\":x, \"y\":y})\n",
    "sns.regplot(x = data[\"x\"] ,y = data[\"y\"], data = data)\n",
    "plt.title('Scatter Plot with Regression Line by regplot()', fontsize=20)\n",
    "plt.show()\n",
    "\n",
    "# this grap show why we the bias : which pass (0,0) is imposible "
   ]
  },
  {
   "cell_type": "markdown",
   "id": "later-column",
   "metadata": {},
   "source": [
    "- The function of stright line is represented by equation (y = mx +b)\n",
    "- where b is the y-intercept \n",
    "\n",
    "---\n",
    "- To be able to define a line need two things: slope of the line, point on the line\n",
    "- bias is that point on the y-axis\n",
    "- bias allows you to move the line up and down : better prediction with the data\n",
    "---\n",
    "- without bias the line always has to go through the original point(0,0) : poorer fit "
   ]
  },
  {
   "cell_type": "markdown",
   "id": "announced-screening",
   "metadata": {},
   "source": [
    "### Step activation function"
   ]
  },
  {
   "cell_type": "markdown",
   "id": "chubby-metadata",
   "metadata": {},
   "source": [
    "- Neuron does not just output the bare input it receives\n",
    "- Instead one more step : called an activation function\n",
    "    + activation function : decision making unit of the brain"
   ]
  },
  {
   "cell_type": "markdown",
   "id": "coastal-rover",
   "metadata": {},
   "source": [
    "- In ANNs, the activation function takes the same weighted sum input \n",
    "- from before (z = Σx i · w i + b) and activates (fires) the neuron\n",
    "- activates if weighted sum is higher than a certain threshold"
   ]
  },
  {
   "cell_type": "markdown",
   "id": "underlying-float",
   "metadata": {},
   "source": [
    "- The simplest activation function used by the perceptron \n",
    "\n",
    "- step function that produces a binary output (0 or 1).\n",
    "- if the summed input ≥ 0, it “fires” (output = 1);\n",
    "- else (summed input < 0), it doesn’t fire (out-put = 0) "
   ]
  },
  {
   "cell_type": "code",
   "execution_count": 60,
   "id": "orange-craps",
   "metadata": {},
   "outputs": [
    {
     "data": {
      "image/png": "[encoded data removed]",
      "text/plain": [
       "<Figure size 432x288 with 1 Axes>"
      ]
     },
     "metadata": {
      "needs_background": "light"
     },
     "output_type": "display_data"
    }
   ],
   "source": [
    "y = np.array([0,0,0,0,1,1,1,1])\n",
    "x = np.array([-3, -2, -1,0,0,1,2,3])\n",
    "data = pd.DataFrame({\"x\":x, \"y\":y})\n",
    "\n",
    "plt.plot(data[\"x\"], data[\"y\"])\n",
    "plt.title(\"Step function\")\n",
    "plt.show()\n"
   ]
  },
  {
   "cell_type": "code",
   "execution_count": 140,
   "id": "published-netherlands",
   "metadata": {},
   "outputs": [],
   "source": [
    "# step function(z) in python\n",
    "# for the single val\n",
    "\n",
    "def step_function(z):\n",
    "    if z <= 0:\n",
    "        return 0\n",
    "    else:\n",
    "        return 1"
   ]
  },
  {
   "cell_type": "code",
   "execution_count": 141,
   "id": "cooked-correction",
   "metadata": {},
   "outputs": [],
   "source": [
    "# step function(z) in python\n",
    "# for the list\n",
    "\n",
    "def step_function(num_list):\n",
    "    step_list = []\n",
    "    \n",
    "    for i in range(len(num_list)):\n",
    "        val = num_list[i] \n",
    "\n",
    "        if val <= 0:\n",
    "            step_list.append(0)\n",
    "        \n",
    "        else:\n",
    "            step_list.append(1)\n",
    "    \n",
    "    return step_list"
   ]
  },
  {
   "cell_type": "code",
   "execution_count": 142,
   "id": "black-portfolio",
   "metadata": {
    "scrolled": false
   },
   "outputs": [
    {
     "data": {
      "text/plain": [
       "[<matplotlib.lines.Line2D at 0x7f29eac497d0>]"
      ]
     },
     "execution_count": 142,
     "metadata": {},
     "output_type": "execute_result"
    },
    {
     "data": {
      "image/png": "[encoded data removed]",
      "text/plain": [
       "<Figure size 432x288 with 1 Axes>"
      ]
     },
     "metadata": {
      "needs_background": "light"
     },
     "output_type": "display_data"
    }
   ],
   "source": [
    "# data\n",
    "ls = (np.arange(-10, 10, 0.1))\n",
    "\n",
    "plt.plot(ls, step_function(ls))"
   ]
  },
  {
   "cell_type": "markdown",
   "id": "tracked-flower",
   "metadata": {},
   "source": [
    "### How does the perceptron learn"
   ]
  },
  {
   "cell_type": "code",
   "execution_count": null,
   "id": "settled-shift",
   "metadata": {},
   "outputs": [],
   "source": []
  }
 ],
 "metadata": {
  "kernelspec": {
   "display_name": "Python 3",
   "language": "python",
   "name": "python3"
  },
  "language_info": {
   "codemirror_mode": {
    "name": "ipython",
    "version": 3
   },
   "file_extension": ".py",
   "mimetype": "text/x-python",
   "name": "python",
   "nbconvert_exporter": "python",
   "pygments_lexer": "ipython3",
   "version": "3.7.6"
  }
 },
 "nbformat": 4,
 "nbformat_minor": 5
}
