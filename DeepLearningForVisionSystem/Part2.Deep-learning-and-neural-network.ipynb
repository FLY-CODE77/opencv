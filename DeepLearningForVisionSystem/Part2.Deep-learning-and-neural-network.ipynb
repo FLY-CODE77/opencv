{
 "cells": [
  {
   "cell_type": "markdown",
   "id": "enormous-savannah",
   "metadata": {},
   "source": [
    "# Deep learning and neural networks"
   ]
  },
  {
   "cell_type": "markdown",
   "id": "chicken-withdrawal",
   "metadata": {},
   "source": [
    "- Understanding perceptrons and multilayer perceptrons\n",
    "- Working with the different types of actication functions\n",
    "- Training networks with feedforward, error functions, and error optimization\n",
    "- performing backpropagation"
   ]
  },
  {
   "cell_type": "markdown",
   "id": "running-jamaica",
   "metadata": {},
   "source": [
    "## Understanding perceptrons"
   ]
  },
  {
   "cell_type": "markdown",
   "id": "worse-nepal",
   "metadata": {},
   "source": [
    "- ANN(artificail neurual network) = MLP(multilayer perceptron)\n"
   ]
  },
  {
   "cell_type": "markdown",
   "id": "private-regression",
   "metadata": {},
   "source": [
    "### what is a perceptron"
   ]
  },
  {
   "cell_type": "markdown",
   "id": "advised-catalyst",
   "metadata": {},
   "source": [
    "- simple neural network is the perceptron - which consists of a single neuron\n",
    "- anrificial neuron performs two consecutive function\n",
    "    + calculates the weighted sum of the inputs : repersent the total strngth of the input signal\n",
    "    + applies a step function : to the result to determine whether to fire the output 1\n",
    "        + if signal exceed a certain thershold or 0 the signal doesn' exceed the threshold "
   ]
  },
  {
   "cell_type": "markdown",
   "id": "apparent-anaheim",
   "metadata": {},
   "source": [
    "not all input features are equally usefull or important \n",
    "- to represent that each input node is assigned a weight value : connection weight "
   ]
  },
  {
   "cell_type": "markdown",
   "id": "coral-pipeline",
   "metadata": {},
   "source": [
    "#### connection weights\n",
    "- not all input features are not equally important\n",
    "- each input feature is assigned its own weight : reflectts its importance in decision-making process\n",
    "- inputs assigned greater weight have a greater effect on the output\n",
    "- if weight is high : amplifies the input signal, if low : diminishes the input signal\n"
   ]
  },
  {
   "cell_type": "markdown",
   "id": "pregnant-little",
   "metadata": {},
   "source": [
    "### img of input perceptron"
   ]
  },
  {
   "cell_type": "markdown",
   "id": "sixth-cookbook",
   "metadata": {},
   "source": [
    "<img src= \"https://img1.daumcdn.net/thumb/R1280x0/?scode=mtistory2&fname=https%3A%2F%2Fblog.kakaocdn.net%2Fdn%2FBMQfD%2Fbtq1MpTtRXm%2FF1CI61tP0j4QcuwfVHbh5K%2Fimg.png\">"
   ]
  },
  {
   "cell_type": "markdown",
   "id": "boolean-flush",
   "metadata": {},
   "source": [
    "### weighted sum function\n",
    "- aka linear combination\n",
    "    + the sum of all inputs multiplied by their weights and then added a bias term\n",
    "    - $z = \\sum({x_i} * {w_i} + b(bias))$"
   ]
  },
  {
   "cell_type": "code",
   "execution_count": 7,
   "id": "sound-sweet",
   "metadata": {},
   "outputs": [],
   "source": [
    "# python code"
   ]
  },
  {
   "cell_type": "code",
   "execution_count": 8,
   "id": "private-siemens",
   "metadata": {},
   "outputs": [
    {
     "name": "stdout",
     "output_type": "stream",
     "text": [
      "14.001\n"
     ]
    }
   ],
   "source": [
    "import numpy as np\n",
    "w = np.array([0.1, 0.2, 0.3])\n",
    "x = np.array([10, 20, 30])\n",
    "b = 0.001\n",
    "\n",
    "z = np.dot(w.T,x) + b\n",
    "print(z)"
   ]
  },
  {
   "cell_type": "markdown",
   "id": "pharmaceutical-physiology",
   "metadata": {},
   "source": [
    "#### what is a bias in the perceptron, and why do we add it?"
   ]
  },
  {
   "cell_type": "code",
   "execution_count": 9,
   "id": "consecutive-stopping",
   "metadata": {},
   "outputs": [
    {
     "ename": "NameError",
     "evalue": "name 'plt' is not defined",
     "output_type": "error",
     "traceback": [
      "\u001b[0;31m---------------------------------------------------------------------------\u001b[0m",
      "\u001b[0;31mNameError\u001b[0m                                 Traceback (most recent call last)",
      "\u001b[0;32m<ipython-input-9-2191bc57171b>\u001b[0m in \u001b[0;36m<module>\u001b[0;34m\u001b[0m\n\u001b[1;32m      6\u001b[0m \u001b[0mdata\u001b[0m \u001b[0;34m=\u001b[0m \u001b[0mpd\u001b[0m\u001b[0;34m.\u001b[0m\u001b[0mDataFrame\u001b[0m\u001b[0;34m(\u001b[0m\u001b[0;34m{\u001b[0m\u001b[0;34m\"x\"\u001b[0m\u001b[0;34m:\u001b[0m\u001b[0mx\u001b[0m\u001b[0;34m,\u001b[0m \u001b[0;34m\"y\"\u001b[0m\u001b[0;34m:\u001b[0m\u001b[0my\u001b[0m\u001b[0;34m}\u001b[0m\u001b[0;34m)\u001b[0m\u001b[0;34m\u001b[0m\u001b[0;34m\u001b[0m\u001b[0m\n\u001b[1;32m      7\u001b[0m \u001b[0msns\u001b[0m\u001b[0;34m.\u001b[0m\u001b[0mregplot\u001b[0m\u001b[0;34m(\u001b[0m\u001b[0mx\u001b[0m \u001b[0;34m=\u001b[0m \u001b[0mdata\u001b[0m\u001b[0;34m[\u001b[0m\u001b[0;34m\"x\"\u001b[0m\u001b[0;34m]\u001b[0m \u001b[0;34m,\u001b[0m\u001b[0my\u001b[0m \u001b[0;34m=\u001b[0m \u001b[0mdata\u001b[0m\u001b[0;34m[\u001b[0m\u001b[0;34m\"y\"\u001b[0m\u001b[0;34m]\u001b[0m\u001b[0;34m,\u001b[0m \u001b[0mdata\u001b[0m \u001b[0;34m=\u001b[0m \u001b[0mdata\u001b[0m\u001b[0;34m)\u001b[0m\u001b[0;34m\u001b[0m\u001b[0;34m\u001b[0m\u001b[0m\n\u001b[0;32m----> 8\u001b[0;31m \u001b[0mplt\u001b[0m\u001b[0;34m.\u001b[0m\u001b[0mtitle\u001b[0m\u001b[0;34m(\u001b[0m\u001b[0;34m'Scatter Plot with Regression Line by regplot()'\u001b[0m\u001b[0;34m,\u001b[0m \u001b[0mfontsize\u001b[0m\u001b[0;34m=\u001b[0m\u001b[0;36m20\u001b[0m\u001b[0;34m)\u001b[0m\u001b[0;34m\u001b[0m\u001b[0;34m\u001b[0m\u001b[0m\n\u001b[0m\u001b[1;32m      9\u001b[0m \u001b[0mplt\u001b[0m\u001b[0;34m.\u001b[0m\u001b[0mshow\u001b[0m\u001b[0;34m(\u001b[0m\u001b[0;34m)\u001b[0m\u001b[0;34m\u001b[0m\u001b[0;34m\u001b[0m\u001b[0m\n\u001b[1;32m     10\u001b[0m \u001b[0;34m\u001b[0m\u001b[0m\n",
      "\u001b[0;31mNameError\u001b[0m: name 'plt' is not defined"
     ]
    },
    {
     "data": {
      "image/png": "[encoded data removed]",
      "text/plain": [
       "<Figure size 432x288 with 1 Axes>"
      ]
     },
     "metadata": {
      "needs_background": "light"
     },
     "output_type": "display_data"
    }
   ],
   "source": [
    "import seaborn as sns\n",
    "import pandas as pd\n",
    "\n",
    "y = list([1,2,3,4,10,5,6])\n",
    "x = list([-10, -20, -30, -49, -89, -47, -77])\n",
    "data = pd.DataFrame({\"x\":x, \"y\":y})\n",
    "sns.regplot(x = data[\"x\"] ,y = data[\"y\"], data = data)\n",
    "plt.title('Scatter Plot with Regression Line by regplot()', fontsize=20)\n",
    "plt.show()\n",
    "\n",
    "# this grap show why we the bias : which pass (0,0) is imposible "
   ]
  },
  {
   "cell_type": "markdown",
   "id": "later-column",
   "metadata": {},
   "source": [
    "- The function of stright line is represented by equation (y = mx +b)\n",
    "- where b is the y-intercept \n",
    "\n",
    "---\n",
    "- To be able to define a line need two things: slope of the line, point on the line\n",
    "- bias is that point on the y-axis\n",
    "- bias allows you to move the line up and down : better prediction with the data\n",
    "---\n",
    "- without bias the line always has to go through the original point(0,0) : poorer fit "
   ]
  },
  {
   "cell_type": "markdown",
   "id": "announced-screening",
   "metadata": {},
   "source": [
    "### Step activation function"
   ]
  },
  {
   "cell_type": "markdown",
   "id": "chubby-metadata",
   "metadata": {},
   "source": [
    "- Neuron does not just output the bare input it receives\n",
    "- Instead one more step : called an activation function\n",
    "    + activation function : decision making unit of the brain"
   ]
  },
  {
   "cell_type": "markdown",
   "id": "coastal-rover",
   "metadata": {},
   "source": [
    "- In ANNs, the activation function takes the same weighted sum input \n",
    "- from before (z = Σx i · w i + b) and activates (fires) the neuron\n",
    "- activates if weighted sum is higher than a certain threshold"
   ]
  },
  {
   "cell_type": "markdown",
   "id": "underlying-float",
   "metadata": {},
   "source": [
    "- The simplest activation function used by the perceptron \n",
    "\n",
    "- step function that produces a binary output (0 or 1).\n",
    "- if the summed input ≥ 0, it “fires” (output = 1);\n",
    "- else (summed input < 0), it doesn’t fire (out-put = 0) "
   ]
  },
  {
   "cell_type": "code",
   "execution_count": null,
   "id": "orange-craps",
   "metadata": {},
   "outputs": [],
   "source": [
    "y = np.array([0,0,0,0,1,1,1,1])\n",
    "x = np.array([-3, -2, -1,0,0,1,2,3])\n",
    "data = pd.DataFrame({\"x\":x, \"y\":y})\n",
    "\n",
    "plt.plot(data[\"x\"], data[\"y\"])\n",
    "plt.title(\"Step function\")\n",
    "plt.show()\n"
   ]
  },
  {
   "cell_type": "code",
   "execution_count": null,
   "id": "published-netherlands",
   "metadata": {},
   "outputs": [],
   "source": [
    "# step function(z) in python\n",
    "# for the single val\n",
    "\n",
    "def step_function(z):\n",
    "    if z <= 0:\n",
    "        return 0\n",
    "    else:\n",
    "        return 1"
   ]
  },
  {
   "cell_type": "code",
   "execution_count": null,
   "id": "cooked-correction",
   "metadata": {},
   "outputs": [],
   "source": [
    "# step function(z) in python\n",
    "# for the list\n",
    "\n",
    "def step_function(num_list):\n",
    "    step_list = []\n",
    "    \n",
    "    for i in range(len(num_list)):\n",
    "        val = num_list[i] \n",
    "\n",
    "        if val <= 0:\n",
    "            step_list.append(0)\n",
    "        \n",
    "        else:\n",
    "            step_list.append(1)\n",
    "    \n",
    "    return step_list"
   ]
  },
  {
   "cell_type": "code",
   "execution_count": null,
   "id": "black-portfolio",
   "metadata": {
    "scrolled": false
   },
   "outputs": [],
   "source": [
    "# data\n",
    "ls = (np.arange(-10, 10, 0.1))\n",
    "\n",
    "plt.plot(ls, step_function(ls))"
   ]
  },
  {
   "cell_type": "markdown",
   "id": "tracked-flower",
   "metadata": {},
   "source": [
    "### How does the perceptron learn"
   ]
  },
  {
   "cell_type": "markdown",
   "id": "amber-chance",
   "metadata": {},
   "source": [
    "- The perceptron uses trial and error to learn from it mistakes\n",
    "- Use the weights as knobs by tuning their values up and down until the network is trained"
   ]
  },
  {
   "cell_type": "markdown",
   "id": "flexible-turtle",
   "metadata": {},
   "source": [
    "### The perceptron's learning logic \n",
    "- The neuron calc the weighted sum and applies the activation function to maked a prediction $\\hat y$ (feeforward process)\n",
    "\n",
    "    #### $ \\hat y = activation(\\sum{x_i * w_i + b})$\n",
    "\n",
    "\n",
    "- Compares the output prediction with the correct label to calc the error\n",
    "    #### $error =  y - \\hat y$\n",
    "\n",
    "\n",
    "\n",
    "- Updates the weight. If prediction is too high, adjusts the weight to make a lower prediction next time, vice versa too\n",
    "\n",
    "\n",
    "- Repeat"
   ]
  },
  {
   "cell_type": "markdown",
   "id": "conceptual-heater",
   "metadata": {},
   "source": [
    "- This process is repeated many times, and the neuron continues to update the weight to import predictions until step2 produce very small error"
   ]
  },
  {
   "cell_type": "markdown",
   "id": "invalid-universal",
   "metadata": {},
   "source": [
    "### Is one neuron enough to solve complex problems?"
   ]
  },
  {
   "cell_type": "markdown",
   "id": "undefined-announcement",
   "metadata": {},
   "source": [
    "- Short answer is no\n",
    "#### then why?\n",
    "\n",
    "\n",
    "- The perceptron is a linear function, trained neuron will produce a straight line that separates our data\n",
    "- Single perceptron works fine when our data was linearly separable.\n"
   ]
  },
  {
   "cell_type": "markdown",
   "id": "settled-anthony",
   "metadata": {},
   "source": [
    "#### Complex dataset example"
   ]
  },
  {
   "cell_type": "markdown",
   "id": "ignored-protection",
   "metadata": {},
   "source": [
    "<img src = \"https://img1.daumcdn.net/thumb/R1280x0/?scode=mtistory2&fname=https%3A%2F%2Fblog.kakaocdn.net%2Fdn%2Fy8tcL%2Fbtq11AlXlmj%2FBZtQlFxIkP3qi878bCR2Mk%2Fimg.png\" align=\"left\">"
   ]
  },
  {
   "cell_type": "markdown",
   "id": "sorted-black",
   "metadata": {},
   "source": [
    "#### But\n",
    "\n",
    "- When we have a more complex dataset that cannot be separated by a straight line\n",
    "- the more neurons we add, the better the network will fit our training data \n",
    "- In fact, if wee add too many neurons, this will make the network overfit the training data(Not good)\n"
   ]
  },
  {
   "cell_type": "markdown",
   "id": "affiliated-johns",
   "metadata": {},
   "source": [
    "### Multilayer perceptrons "
   ]
  },
  {
   "cell_type": "markdown",
   "id": "written-nerve",
   "metadata": {},
   "source": [
    "Linear vs nonlinear problems \n",
    "- Linear datasets - The data can be split with a single straight line\n",
    "- Nonlinear datasets - The data cannot be split with a single straight line\n",
    "- need more than one line to form a shape that splits the data "
   ]
  },
  {
   "cell_type": "markdown",
   "id": "pacific-chester",
   "metadata": {},
   "source": [
    "#### To split a nonlinear dataset, We need more than on line.\n"
   ]
  },
  {
   "cell_type": "markdown",
   "id": "typical-hepatitis",
   "metadata": {},
   "source": [
    "### Multilayer perceptron architecture "
   ]
  },
  {
   "cell_type": "markdown",
   "id": "accessible-intake",
   "metadata": {},
   "source": [
    "<img src = \"https://img1.daumcdn.net/thumb/R1280x0/?scode=mtistory2&fname=https%3A%2F%2Fblog.kakaocdn.net%2Fdn%2F0Ovqt%2Fbtq10RPjMrG%2FgFRDXGY2sTSjF8zAUvdykK%2Fimg.png\">"
   ]
  },
  {
   "cell_type": "markdown",
   "id": "addressed-prediction",
   "metadata": {},
   "source": [
    "- Main components of the neural network architecture\n",
    "\n",
    "- Input layer - contains the feature vector\n",
    "    \n",
    "- Hidden layers - The neurons are stacked on top of each other\n",
    "    \n",
    "- Weight connections(edges)\n",
    "    - assigned to each connection between the nodes \n",
    "    - reflect the importance of their influence on the final output prediction \n",
    "    \n",
    "- output layers - Get the answer of prediction from our model from the output layer"
   ]
  },
  {
   "cell_type": "markdown",
   "id": "joint-symbol",
   "metadata": {},
   "source": [
    "- Why we called hidden layers\n",
    "    + Because we don't see or control the input going into these layers or the output"
   ]
  },
  {
   "cell_type": "markdown",
   "id": "useful-desert",
   "metadata": {},
   "source": [
    "### what are hidden layers?\n",
    "- Core of the feature-learning process takes place \n",
    "\n",
    "- We stack hidden layers to learn complex features from each other until we fit our data\n",
    "\n",
    "- If your network is not fitting the data, the solution could be adding more hidden layers"
   ]
  },
  {
   "cell_type": "code",
   "execution_count": null,
   "id": "conventional-peoples",
   "metadata": {},
   "outputs": [],
   "source": []
  }
 ],
 "metadata": {
  "kernelspec": {
   "display_name": "Python 3",
   "language": "python",
   "name": "python3"
  },
  "language_info": {
   "codemirror_mode": {
    "name": "ipython",
    "version": 3
   },
   "file_extension": ".py",
   "mimetype": "text/x-python",
   "name": "python",
   "nbconvert_exporter": "python",
   "pygments_lexer": "ipython3",
   "version": "3.7.7"
  }
 },
 "nbformat": 4,
 "nbformat_minor": 5
}
