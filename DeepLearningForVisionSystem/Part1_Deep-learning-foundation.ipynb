{
 "cells": [
  {
   "cell_type": "markdown",
   "id": "injured-experiment",
   "metadata": {},
   "source": [
    "# Deep learning foundation"
   ]
  },
  {
   "cell_type": "markdown",
   "id": "contrary-marble",
   "metadata": {},
   "source": [
    "> Part 1\n",
    "- looks at the foundations of deep learning, \n",
    "- different forms of neural net-works structured projects "
   ]
  },
  {
   "cell_type": "markdown",
   "id": "acknowledged-survival",
   "metadata": {},
   "source": [
    "> The core concept of any AI system \n",
    "\n",
    "    - it can perceive its environment and take actions based on its perceptions.\n",
    "\n",
    "---\n",
    "> Computer vision\n",
    "\n",
    "    - visual perception part"
   ]
  },
  {
   "cell_type": "markdown",
   "id": "internal-scanning",
   "metadata": {},
   "source": [
    "### A convolutional neural network \n",
    "\n",
    "- neural network type that truly shines in processing and classifying images in many different applications"
   ]
  },
  {
   "cell_type": "markdown",
   "id": "widespread-roads",
   "metadata": {},
   "source": [
    "### GAN\n",
    "- DL model that can imagine new things\n",
    "- evolved CNN architecture"
   ]
  },
  {
   "cell_type": "markdown",
   "id": "apart-place",
   "metadata": {},
   "source": [
    "### FACERECOGNITHION\n",
    "> Face identification\n",
    "\n",
    "     involves one to many matches compare a query face image against all the template images\n",
    "     example, human or not\n",
    "\n",
    "> Face verification\n",
    "\n",
    "    one to one match that compares a query face image against template face\n",
    "    example, person1, person2, person3 classfication"
   ]
  },
  {
   "cell_type": "markdown",
   "id": "interracial-poker",
   "metadata": {},
   "source": [
    "### image flows through the classification"
   ]
  },
  {
   "cell_type": "markdown",
   "id": "welcome-yorkshire",
   "metadata": {},
   "source": [
    "1. computer receives visual input\n",
    "\n",
    "2. preprocession\n",
    "    - standardize img\n",
    "    - color transformation\n",
    "\n",
    "3. feature extraction\n",
    "    - find distinguishing information\n",
    "\n",
    "4. ML model\n",
    "    - Learn from the extracted features to predict and classify"
   ]
  },
  {
   "cell_type": "markdown",
   "id": "balanced-snowboard",
   "metadata": {},
   "source": [
    "#### good feature for object recognition?\n",
    "- identifiable\n",
    "- Easily tracker and compared\n",
    "- consistent across different scales, light condition, viewing angels\n",
    "- still visible in nosisy images"
   ]
  },
  {
   "cell_type": "code",
   "execution_count": null,
   "id": "female-arlington",
   "metadata": {},
   "outputs": [],
   "source": []
  }
 ],
 "metadata": {
  "kernelspec": {
   "display_name": "Python 3",
   "language": "python",
   "name": "python3"
  },
  "language_info": {
   "codemirror_mode": {
    "name": "ipython",
    "version": 3
   },
   "file_extension": ".py",
   "mimetype": "text/x-python",
   "name": "python",
   "nbconvert_exporter": "python",
   "pygments_lexer": "ipython3",
   "version": "3.7.6"
  }
 },
 "nbformat": 4,
 "nbformat_minor": 5
}
